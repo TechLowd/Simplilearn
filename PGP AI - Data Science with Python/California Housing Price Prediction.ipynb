{
 "cells": [
  {
   "cell_type": "markdown",
   "metadata": {},
   "source": [
    "# PGP AI - Data Science with Python"
   ]
  },
  {
   "cell_type": "markdown",
   "metadata": {},
   "source": [
    "## California Housing Price Prediction"
   ]
  },
  {
   "cell_type": "markdown",
   "metadata": {},
   "source": [
    "<b>Background of Problem Statement :</b>\n",
    "\n",
    "The US Census Bureau has published California Census Data which has 10 types of metrics such as the population, median income, median housing price, and so on for each block group in California. The dataset also serves as an input for project scoping and tries to specify the functional and nonfunctional requirements for it."
   ]
  },
  {
   "cell_type": "markdown",
   "metadata": {},
   "source": [
    "<b>Problem Objective :</b>\n",
    "\n",
    "The project aims at building a model of housing prices to predict median house values in California using the provided dataset. This model should learn from the data and be able to predict the median housing price in any district, given all the other metrics.\n",
    "\n",
    "Districts or block groups are the smallest geographical units for which the US Census Bureau\n",
    "publishes sample data (a block group typically has a population of 600 to 3,000 people). There are 20,640 districts in the project dataset."
   ]
  },
  {
   "cell_type": "markdown",
   "metadata": {},
   "source": [
    "<b>Domain:</b> Finance and Housing"
   ]
  },
  {
   "cell_type": "markdown",
   "metadata": {},
   "source": [
    "<b>Analysis Tasks to be performed:</b>\n",
    "\n",
    "1. Build a model of housing prices to predict median house values in California using the provided dataset.\n",
    "\n",
    "2. Train the model to learn from the data to predict the median housing price in any district, given all the other metrics.\n",
    "\n",
    "3. Predict housing prices based on median_income and plot the regression chart for it."
   ]
  },
  {
   "cell_type": "markdown",
   "metadata": {},
   "source": [
    "### Environment Setup"
   ]
  },
  {
   "cell_type": "code",
   "execution_count": 8,
   "metadata": {},
   "outputs": [],
   "source": [
    "import sys\n",
    "import numpy as np\n",
    "import pandas as pd\n",
    "import matplotlib.pyplot as plt\n",
    "import seaborn as sns\n",
    "%matplotlib inline\n",
    "\n",
    "from sklearn.model_selection import train_test_split"
   ]
  },
  {
   "cell_type": "code",
   "execution_count": 2,
   "metadata": {},
   "outputs": [
    {
     "name": "stdout",
     "output_type": "stream",
     "text": [
      "Python Version: 3.7.3 (default, Apr 24 2019, 15:29:51) [MSC v.1915 64 bit (AMD64)]\n",
      "Numpy Version: 1.16.4\n",
      "Pandas Version: 0.24.2\n"
     ]
    }
   ],
   "source": [
    "print('Python Version: {}'.format(sys.version))\n",
    "print('Numpy Version: {}'.format(np.__version__))\n",
    "print('Pandas Version: {}'.format(pd.__version__))"
   ]
  },
  {
   "cell_type": "markdown",
   "metadata": {},
   "source": [
    "### 1. Load the data :"
   ]
  },
  {
   "cell_type": "markdown",
   "metadata": {},
   "source": [
    "#### Read the “housing data” file from the folder into the program."
   ]
  },
  {
   "cell_type": "code",
   "execution_count": 3,
   "metadata": {},
   "outputs": [],
   "source": [
    "data = pd.read_excel('datasets/1553768847_housing.xlsx')"
   ]
  },
  {
   "cell_type": "markdown",
   "metadata": {},
   "source": [
    "#### Print first few rows of this data."
   ]
  },
  {
   "cell_type": "code",
   "execution_count": 4,
   "metadata": {},
   "outputs": [
    {
     "data": {
      "text/html": [
       "<div>\n",
       "<style scoped>\n",
       "    .dataframe tbody tr th:only-of-type {\n",
       "        vertical-align: middle;\n",
       "    }\n",
       "\n",
       "    .dataframe tbody tr th {\n",
       "        vertical-align: top;\n",
       "    }\n",
       "\n",
       "    .dataframe thead th {\n",
       "        text-align: right;\n",
       "    }\n",
       "</style>\n",
       "<table border=\"1\" class=\"dataframe\">\n",
       "  <thead>\n",
       "    <tr style=\"text-align: right;\">\n",
       "      <th></th>\n",
       "      <th>longitude</th>\n",
       "      <th>latitude</th>\n",
       "      <th>housing_median_age</th>\n",
       "      <th>total_rooms</th>\n",
       "      <th>total_bedrooms</th>\n",
       "      <th>population</th>\n",
       "      <th>households</th>\n",
       "      <th>median_income</th>\n",
       "      <th>ocean_proximity</th>\n",
       "      <th>median_house_value</th>\n",
       "    </tr>\n",
       "  </thead>\n",
       "  <tbody>\n",
       "    <tr>\n",
       "      <th>0</th>\n",
       "      <td>-122.23</td>\n",
       "      <td>37.88</td>\n",
       "      <td>41</td>\n",
       "      <td>880</td>\n",
       "      <td>129.0</td>\n",
       "      <td>322</td>\n",
       "      <td>126</td>\n",
       "      <td>8.3252</td>\n",
       "      <td>NEAR BAY</td>\n",
       "      <td>452600</td>\n",
       "    </tr>\n",
       "    <tr>\n",
       "      <th>1</th>\n",
       "      <td>-122.22</td>\n",
       "      <td>37.86</td>\n",
       "      <td>21</td>\n",
       "      <td>7099</td>\n",
       "      <td>1106.0</td>\n",
       "      <td>2401</td>\n",
       "      <td>1138</td>\n",
       "      <td>8.3014</td>\n",
       "      <td>NEAR BAY</td>\n",
       "      <td>358500</td>\n",
       "    </tr>\n",
       "    <tr>\n",
       "      <th>2</th>\n",
       "      <td>-122.24</td>\n",
       "      <td>37.85</td>\n",
       "      <td>52</td>\n",
       "      <td>1467</td>\n",
       "      <td>190.0</td>\n",
       "      <td>496</td>\n",
       "      <td>177</td>\n",
       "      <td>7.2574</td>\n",
       "      <td>NEAR BAY</td>\n",
       "      <td>352100</td>\n",
       "    </tr>\n",
       "    <tr>\n",
       "      <th>3</th>\n",
       "      <td>-122.25</td>\n",
       "      <td>37.85</td>\n",
       "      <td>52</td>\n",
       "      <td>1274</td>\n",
       "      <td>235.0</td>\n",
       "      <td>558</td>\n",
       "      <td>219</td>\n",
       "      <td>5.6431</td>\n",
       "      <td>NEAR BAY</td>\n",
       "      <td>341300</td>\n",
       "    </tr>\n",
       "    <tr>\n",
       "      <th>4</th>\n",
       "      <td>-122.25</td>\n",
       "      <td>37.85</td>\n",
       "      <td>52</td>\n",
       "      <td>1627</td>\n",
       "      <td>280.0</td>\n",
       "      <td>565</td>\n",
       "      <td>259</td>\n",
       "      <td>3.8462</td>\n",
       "      <td>NEAR BAY</td>\n",
       "      <td>342200</td>\n",
       "    </tr>\n",
       "    <tr>\n",
       "      <th>5</th>\n",
       "      <td>-122.25</td>\n",
       "      <td>37.85</td>\n",
       "      <td>52</td>\n",
       "      <td>919</td>\n",
       "      <td>213.0</td>\n",
       "      <td>413</td>\n",
       "      <td>193</td>\n",
       "      <td>4.0368</td>\n",
       "      <td>NEAR BAY</td>\n",
       "      <td>269700</td>\n",
       "    </tr>\n",
       "    <tr>\n",
       "      <th>6</th>\n",
       "      <td>-122.25</td>\n",
       "      <td>37.84</td>\n",
       "      <td>52</td>\n",
       "      <td>2535</td>\n",
       "      <td>489.0</td>\n",
       "      <td>1094</td>\n",
       "      <td>514</td>\n",
       "      <td>3.6591</td>\n",
       "      <td>NEAR BAY</td>\n",
       "      <td>299200</td>\n",
       "    </tr>\n",
       "    <tr>\n",
       "      <th>7</th>\n",
       "      <td>-122.25</td>\n",
       "      <td>37.84</td>\n",
       "      <td>52</td>\n",
       "      <td>3104</td>\n",
       "      <td>687.0</td>\n",
       "      <td>1157</td>\n",
       "      <td>647</td>\n",
       "      <td>3.1200</td>\n",
       "      <td>NEAR BAY</td>\n",
       "      <td>241400</td>\n",
       "    </tr>\n",
       "    <tr>\n",
       "      <th>8</th>\n",
       "      <td>-122.26</td>\n",
       "      <td>37.84</td>\n",
       "      <td>42</td>\n",
       "      <td>2555</td>\n",
       "      <td>665.0</td>\n",
       "      <td>1206</td>\n",
       "      <td>595</td>\n",
       "      <td>2.0804</td>\n",
       "      <td>NEAR BAY</td>\n",
       "      <td>226700</td>\n",
       "    </tr>\n",
       "    <tr>\n",
       "      <th>9</th>\n",
       "      <td>-122.25</td>\n",
       "      <td>37.84</td>\n",
       "      <td>52</td>\n",
       "      <td>3549</td>\n",
       "      <td>707.0</td>\n",
       "      <td>1551</td>\n",
       "      <td>714</td>\n",
       "      <td>3.6912</td>\n",
       "      <td>NEAR BAY</td>\n",
       "      <td>261100</td>\n",
       "    </tr>\n",
       "  </tbody>\n",
       "</table>\n",
       "</div>"
      ],
      "text/plain": [
       "   longitude  latitude  housing_median_age  total_rooms  total_bedrooms  \\\n",
       "0    -122.23     37.88                  41          880           129.0   \n",
       "1    -122.22     37.86                  21         7099          1106.0   \n",
       "2    -122.24     37.85                  52         1467           190.0   \n",
       "3    -122.25     37.85                  52         1274           235.0   \n",
       "4    -122.25     37.85                  52         1627           280.0   \n",
       "5    -122.25     37.85                  52          919           213.0   \n",
       "6    -122.25     37.84                  52         2535           489.0   \n",
       "7    -122.25     37.84                  52         3104           687.0   \n",
       "8    -122.26     37.84                  42         2555           665.0   \n",
       "9    -122.25     37.84                  52         3549           707.0   \n",
       "\n",
       "   population  households  median_income ocean_proximity  median_house_value  \n",
       "0         322         126         8.3252        NEAR BAY              452600  \n",
       "1        2401        1138         8.3014        NEAR BAY              358500  \n",
       "2         496         177         7.2574        NEAR BAY              352100  \n",
       "3         558         219         5.6431        NEAR BAY              341300  \n",
       "4         565         259         3.8462        NEAR BAY              342200  \n",
       "5         413         193         4.0368        NEAR BAY              269700  \n",
       "6        1094         514         3.6591        NEAR BAY              299200  \n",
       "7        1157         647         3.1200        NEAR BAY              241400  \n",
       "8        1206         595         2.0804        NEAR BAY              226700  \n",
       "9        1551         714         3.6912        NEAR BAY              261100  "
      ]
     },
     "execution_count": 4,
     "metadata": {},
     "output_type": "execute_result"
    }
   ],
   "source": [
    "data.head(10)"
   ]
  },
  {
   "cell_type": "markdown",
   "metadata": {},
   "source": [
    "<b>Dataset Description :</b>\n",
    "\n",
    "- longitude\t(signed numeric - float) : Longitude value for the block in California, USA\n",
    "- latitude\t(numeric - float ) : Latitude value for the block in California, USA\n",
    "- housing_median_age\t(numeric - int ) : Median age of the house in the block\n",
    "- total_rooms\t(numeric - int ) : Count of the total number of rooms (excluding bedrooms) in all houses in the block\n",
    "- total_bedrooms\t(numeric - float ) : Count of the total number of bedrooms in all houses in the block\n",
    "- population\t(numeric - int ) : Count of the total number of population in the block\n",
    "- households\t(numeric - int ) : Count of the total number of households in the block\n",
    "- median_income\t(numeric - float ) : Median of the total household income of all the houses in the block\n",
    "- ocean_proximity\t(numeric - categorical ) : Type of the landscape of the block,  Unique Values : 'NEAR BAY', '<1H OCEAN', 'INLAND', 'NEAR OCEAN', 'ISLAND'\n",
    "- median_house_value\t(numeric - int ) : Median of the household prices of all the houses in the block\n",
    " \n",
    "\n",
    "<b>Dataset Size :</b> 20640 rows x 10 columns"
   ]
  },
  {
   "cell_type": "code",
   "execution_count": 5,
   "metadata": {},
   "outputs": [
    {
     "name": "stdout",
     "output_type": "stream",
     "text": [
      "<class 'pandas.core.frame.DataFrame'>\n",
      "RangeIndex: 20640 entries, 0 to 20639\n",
      "Data columns (total 10 columns):\n",
      "longitude             20640 non-null float64\n",
      "latitude              20640 non-null float64\n",
      "housing_median_age    20640 non-null int64\n",
      "total_rooms           20640 non-null int64\n",
      "total_bedrooms        20433 non-null float64\n",
      "population            20640 non-null int64\n",
      "households            20640 non-null int64\n",
      "median_income         20640 non-null float64\n",
      "ocean_proximity       20640 non-null object\n",
      "median_house_value    20640 non-null int64\n",
      "dtypes: float64(4), int64(5), object(1)\n",
      "memory usage: 1.6+ MB\n"
     ]
    }
   ],
   "source": [
    "data.info()"
   ]
  },
  {
   "cell_type": "markdown",
   "metadata": {},
   "source": [
    "_As it is evident from the above description that, out of ten columns only <b>total_bedrooms</b> have null values._\n",
    "\n",
    "___Some points about the problem:___\n",
    "\n",
    "- The Problem is of type ___Regression___, as we have to predict the <b>median_house_value</b>, which is continuous variable.\n",
    "- For a Linear Regression problem (y= wx + b), we would identify our x(independent) and y(dependent) variables."
   ]
  },
  {
   "cell_type": "markdown",
   "metadata": {},
   "source": [
    "#### Extracting input (X) and output (Y) data from the dataset."
   ]
  },
  {
   "cell_type": "code",
   "execution_count": 10,
   "metadata": {},
   "outputs": [
    {
     "name": "stdout",
     "output_type": "stream",
     "text": [
      "Shape of independent (X): (20640, 9)\n",
      "Shape of dependent (y): (20640,)\n"
     ]
    }
   ],
   "source": [
    "X = data.drop(columns=['median_house_value'])\n",
    "y = data['median_house_value']\n",
    "\n",
    "print(\"Shape of independent (X): {}\".format(X.shape))\n",
    "print(\"Shape of dependent (y): {}\".format(y.shape))"
   ]
  },
  {
   "cell_type": "markdown",
   "metadata": {},
   "source": [
    "### 2. Handle missing values :"
   ]
  },
  {
   "cell_type": "code",
   "execution_count": 11,
   "metadata": {},
   "outputs": [
    {
     "name": "stdout",
     "output_type": "stream",
     "text": [
      "Total Bedrooms (Statistics): count    20433.000000\n",
      "mean       537.870553\n",
      "std        421.385070\n",
      "min          1.000000\n",
      "25%        296.000000\n",
      "50%        435.000000\n",
      "75%        647.000000\n",
      "max       6445.000000\n",
      "Name: total_bedrooms, dtype: float64\n",
      "Total Bedrooms (Median): 435.0\n",
      "Total Bedrooms (Mode): 0    280.0\n",
      "dtype: float64\n"
     ]
    }
   ],
   "source": [
    "print(\"Total Bedrooms (Statistics): {}\".format(X['total_bedrooms'].describe()))\n",
    "print(\"Total Bedrooms (Median): {}\".format(X['total_bedrooms'].median()))\n",
    "print(\"Total Bedrooms (Mode): {}\".format(X['total_bedrooms'].mode()))"
   ]
  },
  {
   "cell_type": "code",
   "execution_count": 12,
   "metadata": {},
   "outputs": [
    {
     "data": {
      "text/plain": [
       "longitude               0\n",
       "latitude                0\n",
       "housing_median_age      0\n",
       "total_rooms             0\n",
       "total_bedrooms        207\n",
       "population              0\n",
       "households              0\n",
       "median_income           0\n",
       "ocean_proximity         0\n",
       "dtype: int64"
      ]
     },
     "execution_count": 12,
     "metadata": {},
     "output_type": "execute_result"
    }
   ],
   "source": [
    "X.isnull().sum()"
   ]
  },
  {
   "cell_type": "code",
   "execution_count": 13,
   "metadata": {},
   "outputs": [
    {
     "data": {
      "text/plain": [
       "0"
      ]
     },
     "execution_count": 13,
     "metadata": {},
     "output_type": "execute_result"
    }
   ],
   "source": [
    "y.isnull().sum()"
   ]
  },
  {
   "cell_type": "code",
   "execution_count": 14,
   "metadata": {},
   "outputs": [
    {
     "name": "stdout",
     "output_type": "stream",
     "text": [
      "<class 'pandas.core.frame.DataFrame'>\n",
      "RangeIndex: 20640 entries, 0 to 20639\n",
      "Data columns (total 9 columns):\n",
      "longitude             20640 non-null float64\n",
      "latitude              20640 non-null float64\n",
      "housing_median_age    20640 non-null int64\n",
      "total_rooms           20640 non-null int64\n",
      "total_bedrooms        20640 non-null float64\n",
      "population            20640 non-null int64\n",
      "households            20640 non-null int64\n",
      "median_income         20640 non-null float64\n",
      "ocean_proximity       20640 non-null object\n",
      "dtypes: float64(4), int64(4), object(1)\n",
      "memory usage: 1.4+ MB\n"
     ]
    },
    {
     "data": {
      "text/plain": [
       "longitude             0\n",
       "latitude              0\n",
       "housing_median_age    0\n",
       "total_rooms           0\n",
       "total_bedrooms        0\n",
       "population            0\n",
       "households            0\n",
       "median_income         0\n",
       "ocean_proximity       0\n",
       "dtype: int64"
      ]
     },
     "execution_count": 14,
     "metadata": {},
     "output_type": "execute_result"
    }
   ],
   "source": [
    "X = X.fillna(value=int(X['total_bedrooms'].mean()), axis=1)\n",
    "X.info()\n",
    "X.isnull().sum()"
   ]
  },
  {
   "cell_type": "markdown",
   "metadata": {},
   "source": [
    "### 3. Encode categorical data :"
   ]
  },
  {
   "cell_type": "markdown",
   "metadata": {},
   "source": [
    "#### Convert categorical column in the dataset to numerical data."
   ]
  },
  {
   "cell_type": "code",
   "execution_count": 17,
   "metadata": {},
   "outputs": [
    {
     "data": {
      "text/plain": [
       "<1H OCEAN     9136\n",
       "INLAND        6551\n",
       "NEAR OCEAN    2658\n",
       "NEAR BAY      2290\n",
       "ISLAND           5\n",
       "Name: ocean_proximity, dtype: int64"
      ]
     },
     "execution_count": 17,
     "metadata": {},
     "output_type": "execute_result"
    }
   ],
   "source": [
    "X['ocean_proximity'].value_counts()"
   ]
  },
  {
   "cell_type": "code",
   "execution_count": 18,
   "metadata": {},
   "outputs": [
    {
     "name": "stdout",
     "output_type": "stream",
     "text": [
      "<class 'pandas.core.frame.DataFrame'>\n",
      "RangeIndex: 20640 entries, 0 to 20639\n",
      "Data columns (total 14 columns):\n",
      "longitude                     20640 non-null float64\n",
      "latitude                      20640 non-null float64\n",
      "housing_median_age            20640 non-null int64\n",
      "total_rooms                   20640 non-null int64\n",
      "total_bedrooms                20640 non-null float64\n",
      "population                    20640 non-null int64\n",
      "households                    20640 non-null int64\n",
      "median_income                 20640 non-null float64\n",
      "median_house_value            20640 non-null int64\n",
      "ocean_proximity_<1H OCEAN     20640 non-null uint8\n",
      "ocean_proximity_INLAND        20640 non-null uint8\n",
      "ocean_proximity_ISLAND        20640 non-null uint8\n",
      "ocean_proximity_NEAR BAY      20640 non-null uint8\n",
      "ocean_proximity_NEAR OCEAN    20640 non-null uint8\n",
      "dtypes: float64(4), int64(5), uint8(5)\n",
      "memory usage: 1.5 MB\n"
     ]
    },
    {
     "data": {
      "text/html": [
       "<div>\n",
       "<style scoped>\n",
       "    .dataframe tbody tr th:only-of-type {\n",
       "        vertical-align: middle;\n",
       "    }\n",
       "\n",
       "    .dataframe tbody tr th {\n",
       "        vertical-align: top;\n",
       "    }\n",
       "\n",
       "    .dataframe thead th {\n",
       "        text-align: right;\n",
       "    }\n",
       "</style>\n",
       "<table border=\"1\" class=\"dataframe\">\n",
       "  <thead>\n",
       "    <tr style=\"text-align: right;\">\n",
       "      <th></th>\n",
       "      <th>longitude</th>\n",
       "      <th>latitude</th>\n",
       "      <th>housing_median_age</th>\n",
       "      <th>total_rooms</th>\n",
       "      <th>total_bedrooms</th>\n",
       "      <th>population</th>\n",
       "      <th>households</th>\n",
       "      <th>median_income</th>\n",
       "      <th>median_house_value</th>\n",
       "      <th>ocean_proximity_&lt;1H OCEAN</th>\n",
       "      <th>ocean_proximity_INLAND</th>\n",
       "      <th>ocean_proximity_ISLAND</th>\n",
       "      <th>ocean_proximity_NEAR BAY</th>\n",
       "      <th>ocean_proximity_NEAR OCEAN</th>\n",
       "    </tr>\n",
       "  </thead>\n",
       "  <tbody>\n",
       "    <tr>\n",
       "      <th>0</th>\n",
       "      <td>-122.23</td>\n",
       "      <td>37.88</td>\n",
       "      <td>41</td>\n",
       "      <td>880</td>\n",
       "      <td>129.0</td>\n",
       "      <td>322</td>\n",
       "      <td>126</td>\n",
       "      <td>8.3252</td>\n",
       "      <td>452600</td>\n",
       "      <td>0</td>\n",
       "      <td>0</td>\n",
       "      <td>0</td>\n",
       "      <td>1</td>\n",
       "      <td>0</td>\n",
       "    </tr>\n",
       "    <tr>\n",
       "      <th>1</th>\n",
       "      <td>-122.22</td>\n",
       "      <td>37.86</td>\n",
       "      <td>21</td>\n",
       "      <td>7099</td>\n",
       "      <td>1106.0</td>\n",
       "      <td>2401</td>\n",
       "      <td>1138</td>\n",
       "      <td>8.3014</td>\n",
       "      <td>358500</td>\n",
       "      <td>0</td>\n",
       "      <td>0</td>\n",
       "      <td>0</td>\n",
       "      <td>1</td>\n",
       "      <td>0</td>\n",
       "    </tr>\n",
       "    <tr>\n",
       "      <th>2</th>\n",
       "      <td>-122.24</td>\n",
       "      <td>37.85</td>\n",
       "      <td>52</td>\n",
       "      <td>1467</td>\n",
       "      <td>190.0</td>\n",
       "      <td>496</td>\n",
       "      <td>177</td>\n",
       "      <td>7.2574</td>\n",
       "      <td>352100</td>\n",
       "      <td>0</td>\n",
       "      <td>0</td>\n",
       "      <td>0</td>\n",
       "      <td>1</td>\n",
       "      <td>0</td>\n",
       "    </tr>\n",
       "    <tr>\n",
       "      <th>3</th>\n",
       "      <td>-122.25</td>\n",
       "      <td>37.85</td>\n",
       "      <td>52</td>\n",
       "      <td>1274</td>\n",
       "      <td>235.0</td>\n",
       "      <td>558</td>\n",
       "      <td>219</td>\n",
       "      <td>5.6431</td>\n",
       "      <td>341300</td>\n",
       "      <td>0</td>\n",
       "      <td>0</td>\n",
       "      <td>0</td>\n",
       "      <td>1</td>\n",
       "      <td>0</td>\n",
       "    </tr>\n",
       "    <tr>\n",
       "      <th>4</th>\n",
       "      <td>-122.25</td>\n",
       "      <td>37.85</td>\n",
       "      <td>52</td>\n",
       "      <td>1627</td>\n",
       "      <td>280.0</td>\n",
       "      <td>565</td>\n",
       "      <td>259</td>\n",
       "      <td>3.8462</td>\n",
       "      <td>342200</td>\n",
       "      <td>0</td>\n",
       "      <td>0</td>\n",
       "      <td>0</td>\n",
       "      <td>1</td>\n",
       "      <td>0</td>\n",
       "    </tr>\n",
       "    <tr>\n",
       "      <th>5</th>\n",
       "      <td>-122.25</td>\n",
       "      <td>37.85</td>\n",
       "      <td>52</td>\n",
       "      <td>919</td>\n",
       "      <td>213.0</td>\n",
       "      <td>413</td>\n",
       "      <td>193</td>\n",
       "      <td>4.0368</td>\n",
       "      <td>269700</td>\n",
       "      <td>0</td>\n",
       "      <td>0</td>\n",
       "      <td>0</td>\n",
       "      <td>1</td>\n",
       "      <td>0</td>\n",
       "    </tr>\n",
       "    <tr>\n",
       "      <th>6</th>\n",
       "      <td>-122.25</td>\n",
       "      <td>37.84</td>\n",
       "      <td>52</td>\n",
       "      <td>2535</td>\n",
       "      <td>489.0</td>\n",
       "      <td>1094</td>\n",
       "      <td>514</td>\n",
       "      <td>3.6591</td>\n",
       "      <td>299200</td>\n",
       "      <td>0</td>\n",
       "      <td>0</td>\n",
       "      <td>0</td>\n",
       "      <td>1</td>\n",
       "      <td>0</td>\n",
       "    </tr>\n",
       "    <tr>\n",
       "      <th>7</th>\n",
       "      <td>-122.25</td>\n",
       "      <td>37.84</td>\n",
       "      <td>52</td>\n",
       "      <td>3104</td>\n",
       "      <td>687.0</td>\n",
       "      <td>1157</td>\n",
       "      <td>647</td>\n",
       "      <td>3.1200</td>\n",
       "      <td>241400</td>\n",
       "      <td>0</td>\n",
       "      <td>0</td>\n",
       "      <td>0</td>\n",
       "      <td>1</td>\n",
       "      <td>0</td>\n",
       "    </tr>\n",
       "    <tr>\n",
       "      <th>8</th>\n",
       "      <td>-122.26</td>\n",
       "      <td>37.84</td>\n",
       "      <td>42</td>\n",
       "      <td>2555</td>\n",
       "      <td>665.0</td>\n",
       "      <td>1206</td>\n",
       "      <td>595</td>\n",
       "      <td>2.0804</td>\n",
       "      <td>226700</td>\n",
       "      <td>0</td>\n",
       "      <td>0</td>\n",
       "      <td>0</td>\n",
       "      <td>1</td>\n",
       "      <td>0</td>\n",
       "    </tr>\n",
       "    <tr>\n",
       "      <th>9</th>\n",
       "      <td>-122.25</td>\n",
       "      <td>37.84</td>\n",
       "      <td>52</td>\n",
       "      <td>3549</td>\n",
       "      <td>707.0</td>\n",
       "      <td>1551</td>\n",
       "      <td>714</td>\n",
       "      <td>3.6912</td>\n",
       "      <td>261100</td>\n",
       "      <td>0</td>\n",
       "      <td>0</td>\n",
       "      <td>0</td>\n",
       "      <td>1</td>\n",
       "      <td>0</td>\n",
       "    </tr>\n",
       "  </tbody>\n",
       "</table>\n",
       "</div>"
      ],
      "text/plain": [
       "   longitude  latitude  housing_median_age  total_rooms  total_bedrooms  \\\n",
       "0    -122.23     37.88                  41          880           129.0   \n",
       "1    -122.22     37.86                  21         7099          1106.0   \n",
       "2    -122.24     37.85                  52         1467           190.0   \n",
       "3    -122.25     37.85                  52         1274           235.0   \n",
       "4    -122.25     37.85                  52         1627           280.0   \n",
       "5    -122.25     37.85                  52          919           213.0   \n",
       "6    -122.25     37.84                  52         2535           489.0   \n",
       "7    -122.25     37.84                  52         3104           687.0   \n",
       "8    -122.26     37.84                  42         2555           665.0   \n",
       "9    -122.25     37.84                  52         3549           707.0   \n",
       "\n",
       "   population  households  median_income  median_house_value  \\\n",
       "0         322         126         8.3252              452600   \n",
       "1        2401        1138         8.3014              358500   \n",
       "2         496         177         7.2574              352100   \n",
       "3         558         219         5.6431              341300   \n",
       "4         565         259         3.8462              342200   \n",
       "5         413         193         4.0368              269700   \n",
       "6        1094         514         3.6591              299200   \n",
       "7        1157         647         3.1200              241400   \n",
       "8        1206         595         2.0804              226700   \n",
       "9        1551         714         3.6912              261100   \n",
       "\n",
       "   ocean_proximity_<1H OCEAN  ocean_proximity_INLAND  ocean_proximity_ISLAND  \\\n",
       "0                          0                       0                       0   \n",
       "1                          0                       0                       0   \n",
       "2                          0                       0                       0   \n",
       "3                          0                       0                       0   \n",
       "4                          0                       0                       0   \n",
       "5                          0                       0                       0   \n",
       "6                          0                       0                       0   \n",
       "7                          0                       0                       0   \n",
       "8                          0                       0                       0   \n",
       "9                          0                       0                       0   \n",
       "\n",
       "   ocean_proximity_NEAR BAY  ocean_proximity_NEAR OCEAN  \n",
       "0                         1                           0  \n",
       "1                         1                           0  \n",
       "2                         1                           0  \n",
       "3                         1                           0  \n",
       "4                         1                           0  \n",
       "5                         1                           0  \n",
       "6                         1                           0  \n",
       "7                         1                           0  \n",
       "8                         1                           0  \n",
       "9                         1                           0  "
      ]
     },
     "execution_count": 18,
     "metadata": {},
     "output_type": "execute_result"
    }
   ],
   "source": [
    "X = pd.get_dummies(X, columns=[\"ocean_proximity\"])\n",
    "X.info()\n",
    "X.head(10)"
   ]
  },
  {
   "cell_type": "code",
   "execution_count": 22,
   "metadata": {},
   "outputs": [
    {
     "data": {
      "text/html": [
       "<div>\n",
       "<style scoped>\n",
       "    .dataframe tbody tr th:only-of-type {\n",
       "        vertical-align: middle;\n",
       "    }\n",
       "\n",
       "    .dataframe tbody tr th {\n",
       "        vertical-align: top;\n",
       "    }\n",
       "\n",
       "    .dataframe thead th {\n",
       "        text-align: right;\n",
       "    }\n",
       "</style>\n",
       "<table border=\"1\" class=\"dataframe\">\n",
       "  <thead>\n",
       "    <tr style=\"text-align: right;\">\n",
       "      <th></th>\n",
       "      <th>longitude</th>\n",
       "      <th>latitude</th>\n",
       "      <th>housing_median_age</th>\n",
       "      <th>total_rooms</th>\n",
       "      <th>total_bedrooms</th>\n",
       "      <th>population</th>\n",
       "      <th>households</th>\n",
       "      <th>median_income</th>\n",
       "      <th>median_house_value</th>\n",
       "      <th>ocean_proximity_&lt;1H OCEAN</th>\n",
       "      <th>ocean_proximity_INLAND</th>\n",
       "      <th>ocean_proximity_ISLAND</th>\n",
       "      <th>ocean_proximity_NEAR BAY</th>\n",
       "      <th>ocean_proximity_NEAR OCEAN</th>\n",
       "    </tr>\n",
       "  </thead>\n",
       "  <tbody>\n",
       "    <tr>\n",
       "      <th>0</th>\n",
       "      <td>-122.23</td>\n",
       "      <td>37.88</td>\n",
       "      <td>41</td>\n",
       "      <td>880</td>\n",
       "      <td>129.0</td>\n",
       "      <td>322</td>\n",
       "      <td>126</td>\n",
       "      <td>8.3252</td>\n",
       "      <td>452600</td>\n",
       "      <td>0</td>\n",
       "      <td>0</td>\n",
       "      <td>0</td>\n",
       "      <td>1</td>\n",
       "      <td>0</td>\n",
       "    </tr>\n",
       "    <tr>\n",
       "      <th>1</th>\n",
       "      <td>-122.22</td>\n",
       "      <td>37.86</td>\n",
       "      <td>21</td>\n",
       "      <td>7099</td>\n",
       "      <td>1106.0</td>\n",
       "      <td>2401</td>\n",
       "      <td>1138</td>\n",
       "      <td>8.3014</td>\n",
       "      <td>358500</td>\n",
       "      <td>0</td>\n",
       "      <td>0</td>\n",
       "      <td>0</td>\n",
       "      <td>1</td>\n",
       "      <td>0</td>\n",
       "    </tr>\n",
       "    <tr>\n",
       "      <th>2</th>\n",
       "      <td>-122.24</td>\n",
       "      <td>37.85</td>\n",
       "      <td>52</td>\n",
       "      <td>1467</td>\n",
       "      <td>190.0</td>\n",
       "      <td>496</td>\n",
       "      <td>177</td>\n",
       "      <td>7.2574</td>\n",
       "      <td>352100</td>\n",
       "      <td>0</td>\n",
       "      <td>0</td>\n",
       "      <td>0</td>\n",
       "      <td>1</td>\n",
       "      <td>0</td>\n",
       "    </tr>\n",
       "    <tr>\n",
       "      <th>3</th>\n",
       "      <td>-122.25</td>\n",
       "      <td>37.85</td>\n",
       "      <td>52</td>\n",
       "      <td>1274</td>\n",
       "      <td>235.0</td>\n",
       "      <td>558</td>\n",
       "      <td>219</td>\n",
       "      <td>5.6431</td>\n",
       "      <td>341300</td>\n",
       "      <td>0</td>\n",
       "      <td>0</td>\n",
       "      <td>0</td>\n",
       "      <td>1</td>\n",
       "      <td>0</td>\n",
       "    </tr>\n",
       "    <tr>\n",
       "      <th>4</th>\n",
       "      <td>-122.25</td>\n",
       "      <td>37.85</td>\n",
       "      <td>52</td>\n",
       "      <td>1627</td>\n",
       "      <td>280.0</td>\n",
       "      <td>565</td>\n",
       "      <td>259</td>\n",
       "      <td>3.8462</td>\n",
       "      <td>342200</td>\n",
       "      <td>0</td>\n",
       "      <td>0</td>\n",
       "      <td>0</td>\n",
       "      <td>1</td>\n",
       "      <td>0</td>\n",
       "    </tr>\n",
       "  </tbody>\n",
       "</table>\n",
       "</div>"
      ],
      "text/plain": [
       "   longitude  latitude  housing_median_age  total_rooms  total_bedrooms  \\\n",
       "0    -122.23     37.88                  41          880           129.0   \n",
       "1    -122.22     37.86                  21         7099          1106.0   \n",
       "2    -122.24     37.85                  52         1467           190.0   \n",
       "3    -122.25     37.85                  52         1274           235.0   \n",
       "4    -122.25     37.85                  52         1627           280.0   \n",
       "\n",
       "   population  households  median_income  median_house_value  \\\n",
       "0         322         126         8.3252              452600   \n",
       "1        2401        1138         8.3014              358500   \n",
       "2         496         177         7.2574              352100   \n",
       "3         558         219         5.6431              341300   \n",
       "4         565         259         3.8462              342200   \n",
       "\n",
       "   ocean_proximity_<1H OCEAN  ocean_proximity_INLAND  ocean_proximity_ISLAND  \\\n",
       "0                          0                       0                       0   \n",
       "1                          0                       0                       0   \n",
       "2                          0                       0                       0   \n",
       "3                          0                       0                       0   \n",
       "4                          0                       0                       0   \n",
       "\n",
       "   ocean_proximity_NEAR BAY  ocean_proximity_NEAR OCEAN  \n",
       "0                         1                           0  \n",
       "1                         1                           0  \n",
       "2                         1                           0  \n",
       "3                         1                           0  \n",
       "4                         1                           0  "
      ]
     },
     "execution_count": 22,
     "metadata": {},
     "output_type": "execute_result"
    }
   ],
   "source": [
    "data_clean = X\n",
    "data_clean['median_house_value'] = y\n",
    "\n",
    "data_clean.head()"
   ]
  },
  {
   "cell_type": "markdown",
   "metadata": {},
   "source": [
    "### 4. Split the dataset : "
   ]
  },
  {
   "cell_type": "markdown",
   "metadata": {},
   "source": [
    "#### Split the data into 80% training dataset and 20% test dataset."
   ]
  },
  {
   "cell_type": "code",
   "execution_count": 24,
   "metadata": {},
   "outputs": [
    {
     "name": "stdout",
     "output_type": "stream",
     "text": [
      "X_train Shape: (16512, 14)\n",
      "X_test Shape: (4128, 14)\n",
      "y_train Shape: (16512,)\n",
      "y_test Shape: (4128,)\n"
     ]
    }
   ],
   "source": [
    "X_train, X_test, y_train, y_test = train_test_split(X, y, test_size=0.2, random_state=42)\n",
    "print(\"X_train Shape: {}\".format(X_train.shape))\n",
    "print(\"X_test Shape: {}\".format(X_test.shape))\n",
    "print(\"y_train Shape: {}\".format(y_train.shape))\n",
    "print(\"y_test Shape: {}\".format(y_test.shape))"
   ]
  },
  {
   "cell_type": "markdown",
   "metadata": {},
   "source": [
    "### 5. Standardize data :"
   ]
  },
  {
   "cell_type": "markdown",
   "metadata": {},
   "source": [
    "#### Standardize training and test datasets."
   ]
  },
  {
   "cell_type": "code",
   "execution_count": 25,
   "metadata": {},
   "outputs": [],
   "source": [
    "from sklearn.preprocessing import StandardScaler"
   ]
  },
  {
   "cell_type": "code",
   "execution_count": 26,
   "metadata": {},
   "outputs": [
    {
     "name": "stdout",
     "output_type": "stream",
     "text": [
      "X_train_tr Shape: (16512, 14)\n",
      "X_test_tr Shape: (4128, 14)\n"
     ]
    }
   ],
   "source": [
    "scaler = StandardScaler()\n",
    "X_train_tr = scaler.fit_transform(X_train)\n",
    "X_test_tr = scaler.fit_transform(X_test)\n",
    "\n",
    "print(\"X_train_tr Shape: {}\".format(X_train_tr.shape))\n",
    "print(\"X_test_tr Shape: {}\".format(X_test_tr.shape))"
   ]
  },
  {
   "cell_type": "code",
   "execution_count": 27,
   "metadata": {},
   "outputs": [
    {
     "data": {
      "text/plain": [
       "(array([[ 1.27258656, -1.3728112 ,  0.34849025, ..., -0.01556621,\n",
       "         -0.35564565,  2.62975816],\n",
       "        [ 0.70916212, -0.87669601,  1.61811813, ..., -0.01556621,\n",
       "         -0.35564565,  2.62975816],\n",
       "        [-0.44760309, -0.46014647, -1.95271028, ..., -0.01556621,\n",
       "         -0.35564565,  2.62975816],\n",
       "        ...,\n",
       "        [ 0.59946887, -0.75500738,  0.58654547, ..., -0.01556621,\n",
       "         -0.35564565, -0.3802631 ],\n",
       "        [-1.18553953,  0.90651045, -1.07984112, ..., -0.01556621,\n",
       "         -0.35564565, -0.3802631 ],\n",
       "        [-1.41489815,  0.99543676,  1.85617335, ..., -0.01556621,\n",
       "          2.81178749, -0.3802631 ]]),\n",
       " array([[ 0.25541734,  0.22194113, -0.30073951, ..., -0.01556621,\n",
       "         -0.34364687, -0.40106719],\n",
       "        [ 0.02976613, -0.20947715,  0.098724  , ..., -0.01556621,\n",
       "         -0.34364687, -0.40106719],\n",
       "        [-1.46454628,  1.03788441,  1.85636346, ..., -0.01556621,\n",
       "          2.9099639 , -0.40106719],\n",
       "        ...,\n",
       "        [-1.2689819 ,  0.80810728, -0.30073951, ..., -0.01556621,\n",
       "         -0.34364687, -0.40106719],\n",
       "        [-0.120668  ,  0.5548835 ,  0.57808022, ..., -0.01556621,\n",
       "         -0.34364687, -0.40106719],\n",
       "        [ 0.57634349, -0.64089543, -0.93988113, ..., -0.01556621,\n",
       "         -0.34364687, -0.40106719]]))"
      ]
     },
     "execution_count": 27,
     "metadata": {},
     "output_type": "execute_result"
    }
   ],
   "source": [
    "X_train_tr, X_test_tr"
   ]
  },
  {
   "cell_type": "markdown",
   "metadata": {},
   "source": [
    "### 6. Perform Linear Regression : "
   ]
  },
  {
   "cell_type": "code",
   "execution_count": 28,
   "metadata": {},
   "outputs": [],
   "source": [
    "from sklearn.linear_model import LinearRegression"
   ]
  },
  {
   "cell_type": "markdown",
   "metadata": {},
   "source": [
    "#### Perform Linear Regression on training data."
   ]
  },
  {
   "cell_type": "code",
   "execution_count": 29,
   "metadata": {},
   "outputs": [
    {
     "data": {
      "text/plain": [
       "LinearRegression(copy_X=True, fit_intercept=True, n_jobs=None, normalize=False)"
      ]
     },
     "execution_count": 29,
     "metadata": {},
     "output_type": "execute_result"
    }
   ],
   "source": [
    "ln_reg = LinearRegression()\n",
    "ln_reg.fit(X_train_tr, y_train)"
   ]
  },
  {
   "cell_type": "code",
   "execution_count": 30,
   "metadata": {},
   "outputs": [
    {
     "data": {
      "text/plain": [
       "array([-2.01205554e-10, -1.40510460e-10,  8.27550683e-11,  1.36631953e-10,\n",
       "       -1.42912107e-10,  1.35073416e-10, -3.79861017e-11, -3.14092255e-11,\n",
       "        1.15619125e+05, -9.95412448e-11,  8.97212354e-11, -8.66318577e-11,\n",
       "        4.80485923e-11, -5.16364189e-11])"
      ]
     },
     "execution_count": 30,
     "metadata": {},
     "output_type": "execute_result"
    }
   ],
   "source": [
    "ln_reg.coef_"
   ]
  },
  {
   "cell_type": "code",
   "execution_count": 31,
   "metadata": {},
   "outputs": [
    {
     "data": {
      "text/plain": [
       "207194.6937378876"
      ]
     },
     "execution_count": 31,
     "metadata": {},
     "output_type": "execute_result"
    }
   ],
   "source": [
    "ln_reg.intercept_"
   ]
  },
  {
   "cell_type": "markdown",
   "metadata": {},
   "source": [
    "#### Predict output for test dataset using the fitted model."
   ]
  },
  {
   "cell_type": "code",
   "execution_count": 34,
   "metadata": {},
   "outputs": [
    {
     "data": {
      "text/plain": [
       "array([ 47814.59185328,  45895.57031041, 504643.7302018 , ...,\n",
       "       504643.7302018 ,  72660.87077677, 152653.76877435])"
      ]
     },
     "execution_count": 34,
     "metadata": {},
     "output_type": "execute_result"
    }
   ],
   "source": [
    "y_pred = ln_reg.predict(X_test_tr)\n",
    "y_pred"
   ]
  },
  {
   "cell_type": "code",
   "execution_count": 35,
   "metadata": {},
   "outputs": [
    {
     "name": "stdout",
     "output_type": "stream",
     "text": [
      "Root Mean Squared Error(RMSE): %f 2045.561015767889\n"
     ]
    }
   ],
   "source": [
    "from sklearn.metrics import mean_squared_error, r2_score\n",
    "print(\"Root Mean Squared Error(RMSE): \",np.sqrt(mean_squared_error(y_test, y_pred)))"
   ]
  },
  {
   "cell_type": "code",
   "execution_count": 36,
   "metadata": {},
   "outputs": [
    {
     "name": "stdout",
     "output_type": "stream",
     "text": [
      "R^2 (coefficient of determination):  0.9996806859584519\n"
     ]
    }
   ],
   "source": [
    "print(\"R^2 (coefficient of determination): \",r2_score(y_test, y_pred))"
   ]
  },
  {
   "cell_type": "markdown",
   "metadata": {},
   "source": [
    "### 7. Bonus exercise: Perform Linear Regression with one independent variable :"
   ]
  },
  {
   "cell_type": "markdown",
   "metadata": {},
   "source": [
    "#### Extract just the median_income column from the independent variables (from X_train and X_test)"
   ]
  },
  {
   "cell_type": "code",
   "execution_count": 43,
   "metadata": {},
   "outputs": [],
   "source": [
    "X_train_mi = X_train['median_income'].values.reshape(-1,1)\n",
    "X_test_mi = X_test['median_income'].values.reshape(-1,1)"
   ]
  },
  {
   "cell_type": "code",
   "execution_count": 46,
   "metadata": {},
   "outputs": [
    {
     "data": {
      "text/plain": [
       "((16512, 1), (4128, 1))"
      ]
     },
     "execution_count": 46,
     "metadata": {},
     "output_type": "execute_result"
    }
   ],
   "source": [
    "X_train_mi.shape, X_test_mi.shape"
   ]
  },
  {
   "cell_type": "markdown",
   "metadata": {},
   "source": [
    "#### Perform Linear Regression to predict housing values based on median_income."
   ]
  },
  {
   "cell_type": "code",
   "execution_count": 52,
   "metadata": {},
   "outputs": [
    {
     "data": {
      "text/plain": [
       "LinearRegression(copy_X=True, fit_intercept=True, n_jobs=None, normalize=False)"
      ]
     },
     "execution_count": 52,
     "metadata": {},
     "output_type": "execute_result"
    }
   ],
   "source": [
    "ln_reg_mi = LinearRegression()\n",
    "ln_reg_mi.fit(X_train_mi, y_train)"
   ]
  },
  {
   "cell_type": "code",
   "execution_count": 53,
   "metadata": {},
   "outputs": [
    {
     "data": {
      "text/plain": [
       "array([114958.91676996, 150606.88213964, 190393.71844449, ...,\n",
       "       431500.77230409, 161245.49973085, 193412.95560084])"
      ]
     },
     "execution_count": 53,
     "metadata": {},
     "output_type": "execute_result"
    }
   ],
   "source": [
    "y_pred_mi = ln_reg_mi.predict(X_test_mi)\n",
    "y_pred_mi"
   ]
  },
  {
   "cell_type": "code",
   "execution_count": 54,
   "metadata": {},
   "outputs": [
    {
     "name": "stdout",
     "output_type": "stream",
     "text": [
      "Root Mean Squared Error(RMSE) with Median Income:  84209.01241414454\n",
      "R^2 (coefficient of determination) with Median Income:  0.45885918903846656\n"
     ]
    }
   ],
   "source": [
    "print(\"Root Mean Squared Error(RMSE) with Median Income: \",np.sqrt(mean_squared_error(y_test, y_pred_mi)))\n",
    "print(\"R^2 (coefficient of determination) with Median Income: \",r2_score(y_test, y_pred_mi))"
   ]
  },
  {
   "cell_type": "markdown",
   "metadata": {},
   "source": [
    "#### Plot the fitted model for training data as well as for test data to check if the fitted model satisfies the test data."
   ]
  },
  {
   "cell_type": "code",
   "execution_count": 63,
   "metadata": {},
   "outputs": [
    {
     "data": {
      "image/png": "[encoded data removed]",
      "text/plain": [
       "<Figure size 1080x432 with 1 Axes>"
      ]
     },
     "metadata": {},
     "output_type": "display_data"
    }
   ],
   "source": [
    "plt.figure(figsize=(15,6))\n",
    "plt.scatter(X_train_mi,y_train,c='blue')\n",
    "plt.plot(X_test_mi,y_pred_mi,c='red')\n",
    "\n",
    "plt.show()"
   ]
  },
  {
   "cell_type": "code",
   "execution_count": null,
   "metadata": {},
   "outputs": [],
   "source": []
  }
 ],
 "metadata": {
  "kernelspec": {
   "display_name": "Python 3",
   "language": "python",
   "name": "python3"
  },
  "language_info": {
   "codemirror_mode": {
    "name": "ipython",
    "version": 3
   },
   "file_extension": ".py",
   "mimetype": "text/x-python",
   "name": "python",
   "nbconvert_exporter": "python",
   "pygments_lexer": "ipython3",
   "version": "3.7.3"
  }
 },
 "nbformat": 4,
 "nbformat_minor": 2
}
