{
 "cells": [
  {
   "cell_type": "markdown",
   "metadata": {},
   "source": [
    "# PGP-AI : MACHINE LEARNING\n",
    "## Project Name: Income Qualification"
   ]
  },
  {
   "cell_type": "markdown",
   "metadata": {},
   "source": [
    "### Description:\n",
    "Identify the level of income qualification needed for the families in Latin America."
   ]
  },
  {
   "cell_type": "markdown",
   "metadata": {},
   "source": [
    "### Problem Statement Scenario:\n",
    "Many social programs have a hard time ensuring that the right people are given enough aid. It’s tricky when a program focuses on the poorest segment of the population. This segment of the population can’t provide the necessary income and expense records to prove that they qualify.\n",
    "\n",
    "In Latin America, a popular method called Proxy Means Test (PMT) uses an algorithm to verify income qualification. With PMT, agencies use a model that considers a family’s observable household attributes like the material of their walls and ceiling or the assets found in their homes to\n",
    "classify them and predict their level of need.\n",
    "\n",
    "While this is an improvement, accuracy remains a problem as the region’s population grows and poverty declines.\n",
    "\n",
    "The Inter-American Development Bank (IDB)believes that new methods beyond traditional econometrics, based on a dataset of Costa Rican household characteristics, might help improve PMT’s performance."
   ]
  },
  {
   "cell_type": "markdown",
   "metadata": {},
   "source": [
    "### Project Requirements:\n",
    " 1. Identify the output variable.\n",
    " 2. Understand the type of data.\n",
    " 3. Check if there are any biases in your dataset.\n",
    " 4. Check whether all members of the house have the same poverty level.\n",
    " 5. Check if there is a house without a family head.\n",
    " 6. Set poverty level of the members and the head of the house within a family.\n",
    " 7. Count how many null values are existing in columns.\n",
    " 8. Remove null value rows of the target variable.\n",
    " 9. Predict the accuracy using random forest classifier.\n",
    " 10. Check the accuracy using random forest with cross validation."
   ]
  },
  {
   "cell_type": "markdown",
   "metadata": {},
   "source": [
    "### Environment Setup"
   ]
  },
  {
   "cell_type": "code",
   "execution_count": 1,
   "metadata": {},
   "outputs": [],
   "source": [
    "import sys\n",
    "import numpy as np\n",
    "import pandas as pd\n",
    "import matplotlib.pyplot as plt\n",
    "\n",
    "%matplotlib inline"
   ]
  },
  {
   "cell_type": "code",
   "execution_count": 2,
   "metadata": {},
   "outputs": [
    {
     "name": "stdout",
     "output_type": "stream",
     "text": [
      "Python Version: 3.7.3 (default, Apr 24 2019, 15:29:51) [MSC v.1915 64 bit (AMD64)]\n",
      "Numpy Version: 1.18.1\n",
      "Pandas Version: 1.0.3\n"
     ]
    }
   ],
   "source": [
    "print('Python Version: {}'.format(sys.version))\n",
    "print('Numpy Version: {}'.format(np.__version__))\n",
    "print('Pandas Version: {}'.format(pd.__version__))"
   ]
  },
  {
   "cell_type": "markdown",
   "metadata": {},
   "source": [
    "### Import Data in Pandas DataFrame"
   ]
  },
  {
   "cell_type": "code",
   "execution_count": 3,
   "metadata": {},
   "outputs": [],
   "source": [
    "data = pd.read_csv('train.csv')"
   ]
  },
  {
   "cell_type": "markdown",
   "metadata": {},
   "source": [
    "### Data Description\n",
    "\n",
    "- Total Records: 9557\n",
    "- Total Features: 143\n",
    "- Data Types:\n",
    "  - Float - 8\n",
    "  - Integer - 130\n",
    "  - Object - 5"
   ]
  },
  {
   "cell_type": "code",
   "execution_count": 4,
   "metadata": {},
   "outputs": [
    {
     "data": {
      "text/plain": [
       "(9557, 143)"
      ]
     },
     "execution_count": 4,
     "metadata": {},
     "output_type": "execute_result"
    }
   ],
   "source": [
    "data.shape"
   ]
  },
  {
   "cell_type": "code",
   "execution_count": 5,
   "metadata": {},
   "outputs": [
    {
     "name": "stdout",
     "output_type": "stream",
     "text": [
      "<class 'pandas.core.frame.DataFrame'>\n",
      "RangeIndex: 9557 entries, 0 to 9556\n",
      "Columns: 143 entries, Id to Target\n",
      "dtypes: float64(8), int64(130), object(5)\n",
      "memory usage: 10.4+ MB\n"
     ]
    }
   ],
   "source": [
    "data.info()"
   ]
  },
  {
   "cell_type": "markdown",
   "metadata": {},
   "source": [
    "### 1. Identification of the Output variable"
   ]
  },
  {
   "cell_type": "code",
   "execution_count": 6,
   "metadata": {},
   "outputs": [
    {
     "data": {
      "text/plain": [
       "array([1, 2, 3, 4], dtype=int64)"
      ]
     },
     "execution_count": 6,
     "metadata": {},
     "output_type": "execute_result"
    }
   ],
   "source": [
    "np.unique(data['Target'])"
   ]
  },
  {
   "cell_type": "markdown",
   "metadata": {},
   "source": [
    "### 2. Understanding of the data"
   ]
  },
  {
   "cell_type": "code",
   "execution_count": 7,
   "metadata": {},
   "outputs": [
    {
     "data": {
      "text/plain": [
       "count    9557.000000\n",
       "mean        3.302292\n",
       "std         1.009565\n",
       "min         1.000000\n",
       "25%         3.000000\n",
       "50%         4.000000\n",
       "75%         4.000000\n",
       "max         4.000000\n",
       "Name: Target, dtype: float64"
      ]
     },
     "execution_count": 7,
     "metadata": {},
     "output_type": "execute_result"
    }
   ],
   "source": [
    "data['Target'].describe()"
   ]
  },
  {
   "cell_type": "markdown",
   "metadata": {},
   "source": [
    "### 3. Checking for biases in the dataset"
   ]
  },
  {
   "cell_type": "code",
   "execution_count": 8,
   "metadata": {},
   "outputs": [
    {
     "data": {
      "text/html": [
       "<div>\n",
       "<style scoped>\n",
       "    .dataframe tbody tr th:only-of-type {\n",
       "        vertical-align: middle;\n",
       "    }\n",
       "\n",
       "    .dataframe tbody tr th {\n",
       "        vertical-align: top;\n",
       "    }\n",
       "\n",
       "    .dataframe thead th {\n",
       "        text-align: right;\n",
       "    }\n",
       "</style>\n",
       "<table border=\"1\" class=\"dataframe\">\n",
       "  <thead>\n",
       "    <tr style=\"text-align: right;\">\n",
       "      <th></th>\n",
       "      <th>sample_size</th>\n",
       "      <th>sample_rpr</th>\n",
       "    </tr>\n",
       "    <tr>\n",
       "      <th>Target</th>\n",
       "      <th></th>\n",
       "      <th></th>\n",
       "    </tr>\n",
       "  </thead>\n",
       "  <tbody>\n",
       "    <tr>\n",
       "      <th>4</th>\n",
       "      <td>5996</td>\n",
       "      <td>62.739353</td>\n",
       "    </tr>\n",
       "    <tr>\n",
       "      <th>2</th>\n",
       "      <td>1597</td>\n",
       "      <td>16.710265</td>\n",
       "    </tr>\n",
       "    <tr>\n",
       "      <th>3</th>\n",
       "      <td>1209</td>\n",
       "      <td>12.650413</td>\n",
       "    </tr>\n",
       "    <tr>\n",
       "      <th>1</th>\n",
       "      <td>755</td>\n",
       "      <td>7.899969</td>\n",
       "    </tr>\n",
       "  </tbody>\n",
       "</table>\n",
       "</div>"
      ],
      "text/plain": [
       "        sample_size  sample_rpr\n",
       "Target                         \n",
       "4              5996   62.739353\n",
       "2              1597   16.710265\n",
       "3              1209   12.650413\n",
       "1               755    7.899969"
      ]
     },
     "execution_count": 8,
     "metadata": {},
     "output_type": "execute_result"
    }
   ],
   "source": [
    "chk_bias_df = pd.DataFrame(data.Target.value_counts())\n",
    "\n",
    "chk_bias_df.columns = ['sample_size']\n",
    "chk_bias_df.index.name = 'Target'\n",
    "chk_bias_df['sample_rpr'] = chk_bias_df['sample_size']/chk_bias_df['sample_size'].sum() * 100\n",
    "chk_bias_df"
   ]
  },
  {
   "cell_type": "markdown",
   "metadata": {},
   "source": [
    "#### Visualising the bias"
   ]
  },
  {
   "cell_type": "code",
   "execution_count": 9,
   "metadata": {},
   "outputs": [
    {
     "data": {
      "image/png": "[encoded data removed]",
      "text/plain": [
       "<Figure size 432x288 with 1 Axes>"
      ]
     },
     "metadata": {},
     "output_type": "display_data"
    }
   ],
   "source": [
    "chk_bias_df.plot(kind='pie', y='sample_size', title='Sample Representation in the dataset')\n",
    "plt.style.use('seaborn')\n",
    "plt.show()"
   ]
  },
  {
   "cell_type": "markdown",
   "metadata": {},
   "source": [
    "### 4. Checking whether all members of the house have the same poverty level"
   ]
  },
  {
   "cell_type": "markdown",
   "metadata": {},
   "source": [
    "#### Household Identification and classifying Single and Multiple Member Households:\n",
    "- We identified from the data dictionary that feature representing the unique household is ***__'idhogar'__***.\n",
    "- We used this feature to extract total unique households.\n",
    "- Households can be comprised Single or Multiple Members.\n",
    "- We then divided the total households by their member size, if member size is 1 then Single else multiple member household.\n",
    "- For checking similar poverty level across each family we should take only Multiple member families."
   ]
  },
  {
   "cell_type": "code",
   "execution_count": 10,
   "metadata": {},
   "outputs": [
    {
     "name": "stdout",
     "output_type": "stream",
     "text": [
      "Total Households: 2988\n",
      "Single Member Households: 398\n",
      "Multi Member Households: 2590\n"
     ]
    }
   ],
   "source": [
    "households = data['idhogar'].value_counts()\n",
    "\n",
    "print(\"Total Households: {}\".format(households.shape[0]))\n",
    "print(\"Single Member Households: {}\".format(households[households.values == 1].shape[0]))\n",
    "print(\"Multi Member Households: {}\".format(households[households.values > 1].shape[0]))"
   ]
  },
  {
   "cell_type": "markdown",
   "metadata": {},
   "source": [
    "#### Household analysis:\n",
    "- From the above figures it is identified that Multiple member households are 2590\n",
    "- Hence for similarity of poverty level in families we would select these 2590 families.\n",
    "- The Head of Family is represented by the feature ***__parentesco1 = 1__***.\n",
    "- We iterate through each family id and obtain mean of Members poverty level and head of family poverty level.\n",
    "- The results are contained in a dataframe reflecting familyid, poverty level of family head, mean of members and similarity check (True/False).\n",
    "- The results are displayed with five rows."
   ]
  },
  {
   "cell_type": "code",
   "execution_count": 11,
   "metadata": {},
   "outputs": [
    {
     "name": "stdout",
     "output_type": "stream",
     "text": [
      "Wall time: 9.34 s\n"
     ]
    },
    {
     "data": {
      "text/html": [
       "<div>\n",
       "<style scoped>\n",
       "    .dataframe tbody tr th:only-of-type {\n",
       "        vertical-align: middle;\n",
       "    }\n",
       "\n",
       "    .dataframe tbody tr th {\n",
       "        vertical-align: top;\n",
       "    }\n",
       "\n",
       "    .dataframe thead th {\n",
       "        text-align: right;\n",
       "    }\n",
       "</style>\n",
       "<table border=\"1\" class=\"dataframe\">\n",
       "  <thead>\n",
       "    <tr style=\"text-align: right;\">\n",
       "      <th></th>\n",
       "      <th>idhogar</th>\n",
       "      <th>hof_pl</th>\n",
       "      <th>members_pl</th>\n",
       "      <th>similar_pl</th>\n",
       "    </tr>\n",
       "  </thead>\n",
       "  <tbody>\n",
       "    <tr>\n",
       "      <th>0</th>\n",
       "      <td>fd8a6d014</td>\n",
       "      <td>1</td>\n",
       "      <td>1.0</td>\n",
       "      <td>True</td>\n",
       "    </tr>\n",
       "    <tr>\n",
       "      <th>1</th>\n",
       "      <td>ae6cf0558</td>\n",
       "      <td>3</td>\n",
       "      <td>3.0</td>\n",
       "      <td>True</td>\n",
       "    </tr>\n",
       "    <tr>\n",
       "      <th>2</th>\n",
       "      <td>0c7436de6</td>\n",
       "      <td>4</td>\n",
       "      <td>4.0</td>\n",
       "      <td>True</td>\n",
       "    </tr>\n",
       "    <tr>\n",
       "      <th>3</th>\n",
       "      <td>6b35cdcf0</td>\n",
       "      <td>4</td>\n",
       "      <td>4.0</td>\n",
       "      <td>True</td>\n",
       "    </tr>\n",
       "    <tr>\n",
       "      <th>4</th>\n",
       "      <td>4476ccd4c</td>\n",
       "      <td>4</td>\n",
       "      <td>4.0</td>\n",
       "      <td>True</td>\n",
       "    </tr>\n",
       "    <tr>\n",
       "      <th>5</th>\n",
       "      <td>3fe29a56b</td>\n",
       "      <td>3</td>\n",
       "      <td>2.6</td>\n",
       "      <td>False</td>\n",
       "    </tr>\n",
       "    <tr>\n",
       "      <th>6</th>\n",
       "      <td>b7a0b59d7</td>\n",
       "      <td>2</td>\n",
       "      <td>2.0</td>\n",
       "      <td>True</td>\n",
       "    </tr>\n",
       "    <tr>\n",
       "      <th>7</th>\n",
       "      <td>6a96a96c0</td>\n",
       "      <td>4</td>\n",
       "      <td>4.0</td>\n",
       "      <td>True</td>\n",
       "    </tr>\n",
       "    <tr>\n",
       "      <th>8</th>\n",
       "      <td>a18c0c0be</td>\n",
       "      <td>4</td>\n",
       "      <td>4.0</td>\n",
       "      <td>True</td>\n",
       "    </tr>\n",
       "    <tr>\n",
       "      <th>9</th>\n",
       "      <td>63f11d6ea</td>\n",
       "      <td>4</td>\n",
       "      <td>4.0</td>\n",
       "      <td>True</td>\n",
       "    </tr>\n",
       "  </tbody>\n",
       "</table>\n",
       "</div>"
      ],
      "text/plain": [
       "     idhogar  hof_pl  members_pl  similar_pl\n",
       "0  fd8a6d014       1         1.0        True\n",
       "1  ae6cf0558       3         3.0        True\n",
       "2  0c7436de6       4         4.0        True\n",
       "3  6b35cdcf0       4         4.0        True\n",
       "4  4476ccd4c       4         4.0        True\n",
       "5  3fe29a56b       3         2.6       False\n",
       "6  b7a0b59d7       2         2.0        True\n",
       "7  6a96a96c0       4         4.0        True\n",
       "8  a18c0c0be       4         4.0        True\n",
       "9  63f11d6ea       4         4.0        True"
      ]
     },
     "execution_count": 11,
     "metadata": {},
     "output_type": "execute_result"
    }
   ],
   "source": [
    "%%time\n",
    "def get_hof_poverty_level(id):\n",
    "    return data[(data['idhogar'] == id) & (data['parentesco1'] == 1)]['Target'].sum()\n",
    "\n",
    "def get_members_mean_poverty_level(id):\n",
    "    return data[(data['idhogar'] == id) & (data['parentesco1'] == 0)]['Target'].mean()\n",
    "\n",
    "def check_similar_poverty_level(households):\n",
    "    poverty_level_families = []\n",
    "    for household in households:\n",
    "        hof_pl = get_hof_poverty_level(household)\n",
    "        members_pl = get_members_mean_poverty_level(household)\n",
    "        poverty_level_families.append({'idhogar':household, \n",
    "                                        'hof_pl':hof_pl, \n",
    "                                        'members_pl':members_pl, \n",
    "                                        'similar_pl':hof_pl == members_pl})\n",
    "    return poverty_level_families\n",
    "\n",
    "\n",
    "poverty_level_families = pd.DataFrame(check_similar_poverty_level(households[households.values > 1].index), \n",
    "                                      columns=['idhogar', 'hof_pl', 'members_pl', 'similar_pl'])\n",
    "\n",
    "poverty_level_families.head(10)"
   ]
  },
  {
   "cell_type": "code",
   "execution_count": 12,
   "metadata": {},
   "outputs": [
    {
     "data": {
      "text/plain": [
       "4    1692\n",
       "2     393\n",
       "3     298\n",
       "1     202\n",
       "0       5\n",
       "Name: hof_pl, dtype: int64"
      ]
     },
     "execution_count": 12,
     "metadata": {},
     "output_type": "execute_result"
    }
   ],
   "source": [
    "poverty_level_families.hof_pl.value_counts()"
   ]
  },
  {
   "cell_type": "markdown",
   "metadata": {},
   "source": [
    "#### Analysis of Poverty Levels for Head of Family:\n",
    "- From the above it is evident that 5 families are having Poverty Level as 0.\n",
    "- This defies our scope for Target variable which is having a discrete set of values __\\[1,2,3,4,5\\]__\n",
    "- We can infer for these **___5 families that they do not posses a head of family___**.\n",
    "- Hence we can now calculate the number of families with disimilar poverty levels by aggregating the __similar_pl__ column for all __hof_pl > 0__.\n",
    "- The results shows us that the dataset contains ***84 families with disimilar poverty levels***."
   ]
  },
  {
   "cell_type": "code",
   "execution_count": 13,
   "metadata": {},
   "outputs": [
    {
     "data": {
      "text/plain": [
       "True     2501\n",
       "False      84\n",
       "Name: similar_pl, dtype: int64"
      ]
     },
     "execution_count": 13,
     "metadata": {},
     "output_type": "execute_result"
    }
   ],
   "source": [
    "poverty_level_families[poverty_level_families['hof_pl'] > 0].similar_pl.value_counts()"
   ]
  },
  {
   "cell_type": "markdown",
   "metadata": {},
   "source": [
    "### 5. Checking if there is a house without a family head"
   ]
  },
  {
   "cell_type": "markdown",
   "metadata": {},
   "source": [
    "**As obtained from the previous steps we identified that 5 families are without Family Head**\n",
    "- We can now look at the details of the families.\n",
    "- Total members from these families are 13."
   ]
  },
  {
   "cell_type": "code",
   "execution_count": 14,
   "metadata": {},
   "outputs": [
    {
     "data": {
      "text/plain": [
       "6b1b2405f    3\n",
       "f2bfa75c4    3\n",
       "c0c8a5013    3\n",
       "03c6bdf85    2\n",
       "bfd5067c2    2\n",
       "Name: idhogar, dtype: int64"
      ]
     },
     "execution_count": 14,
     "metadata": {},
     "output_type": "execute_result"
    }
   ],
   "source": [
    "no_hof = poverty_level_families[poverty_level_families['hof_pl'] == 0].idhogar.values\n",
    "\n",
    "data[data['idhogar'].isin(no_hof)].idhogar.value_counts()"
   ]
  },
  {
   "cell_type": "markdown",
   "metadata": {},
   "source": [
    "**It is also inferred that although the family do not have family head but they have similar poverty levels.**"
   ]
  },
  {
   "cell_type": "code",
   "execution_count": 15,
   "metadata": {},
   "outputs": [
    {
     "data": {
      "text/html": [
       "<div>\n",
       "<style scoped>\n",
       "    .dataframe tbody tr th:only-of-type {\n",
       "        vertical-align: middle;\n",
       "    }\n",
       "\n",
       "    .dataframe tbody tr th {\n",
       "        vertical-align: top;\n",
       "    }\n",
       "\n",
       "    .dataframe thead th {\n",
       "        text-align: right;\n",
       "    }\n",
       "</style>\n",
       "<table border=\"1\" class=\"dataframe\">\n",
       "  <thead>\n",
       "    <tr style=\"text-align: right;\">\n",
       "      <th></th>\n",
       "      <th>Id</th>\n",
       "      <th>idhogar</th>\n",
       "      <th>parentesco1</th>\n",
       "      <th>Target</th>\n",
       "    </tr>\n",
       "  </thead>\n",
       "  <tbody>\n",
       "    <tr>\n",
       "      <th>6443</th>\n",
       "      <td>ID_8ddb34d2c</td>\n",
       "      <td>bfd5067c2</td>\n",
       "      <td>0</td>\n",
       "      <td>3</td>\n",
       "    </tr>\n",
       "    <tr>\n",
       "      <th>6444</th>\n",
       "      <td>ID_03e2f23b0</td>\n",
       "      <td>bfd5067c2</td>\n",
       "      <td>0</td>\n",
       "      <td>3</td>\n",
       "    </tr>\n",
       "    <tr>\n",
       "      <th>7438</th>\n",
       "      <td>ID_7ba374a80</td>\n",
       "      <td>6b1b2405f</td>\n",
       "      <td>0</td>\n",
       "      <td>4</td>\n",
       "    </tr>\n",
       "    <tr>\n",
       "      <th>7439</th>\n",
       "      <td>ID_1bca5b5e5</td>\n",
       "      <td>6b1b2405f</td>\n",
       "      <td>0</td>\n",
       "      <td>4</td>\n",
       "    </tr>\n",
       "    <tr>\n",
       "      <th>7440</th>\n",
       "      <td>ID_622be4200</td>\n",
       "      <td>6b1b2405f</td>\n",
       "      <td>0</td>\n",
       "      <td>4</td>\n",
       "    </tr>\n",
       "    <tr>\n",
       "      <th>7461</th>\n",
       "      <td>ID_1f91daf92</td>\n",
       "      <td>f2bfa75c4</td>\n",
       "      <td>0</td>\n",
       "      <td>3</td>\n",
       "    </tr>\n",
       "    <tr>\n",
       "      <th>7462</th>\n",
       "      <td>ID_686d2639f</td>\n",
       "      <td>f2bfa75c4</td>\n",
       "      <td>0</td>\n",
       "      <td>3</td>\n",
       "    </tr>\n",
       "    <tr>\n",
       "      <th>7463</th>\n",
       "      <td>ID_b84170356</td>\n",
       "      <td>f2bfa75c4</td>\n",
       "      <td>0</td>\n",
       "      <td>3</td>\n",
       "    </tr>\n",
       "    <tr>\n",
       "      <th>7705</th>\n",
       "      <td>ID_c7c038825</td>\n",
       "      <td>03c6bdf85</td>\n",
       "      <td>0</td>\n",
       "      <td>3</td>\n",
       "    </tr>\n",
       "    <tr>\n",
       "      <th>7706</th>\n",
       "      <td>ID_ebef0991f</td>\n",
       "      <td>03c6bdf85</td>\n",
       "      <td>0</td>\n",
       "      <td>3</td>\n",
       "    </tr>\n",
       "    <tr>\n",
       "      <th>8431</th>\n",
       "      <td>ID_0f75a20b2</td>\n",
       "      <td>c0c8a5013</td>\n",
       "      <td>0</td>\n",
       "      <td>3</td>\n",
       "    </tr>\n",
       "    <tr>\n",
       "      <th>8432</th>\n",
       "      <td>ID_dfab56985</td>\n",
       "      <td>c0c8a5013</td>\n",
       "      <td>0</td>\n",
       "      <td>3</td>\n",
       "    </tr>\n",
       "    <tr>\n",
       "      <th>8433</th>\n",
       "      <td>ID_82ebed6d4</td>\n",
       "      <td>c0c8a5013</td>\n",
       "      <td>0</td>\n",
       "      <td>3</td>\n",
       "    </tr>\n",
       "  </tbody>\n",
       "</table>\n",
       "</div>"
      ],
      "text/plain": [
       "                Id    idhogar  parentesco1  Target\n",
       "6443  ID_8ddb34d2c  bfd5067c2            0       3\n",
       "6444  ID_03e2f23b0  bfd5067c2            0       3\n",
       "7438  ID_7ba374a80  6b1b2405f            0       4\n",
       "7439  ID_1bca5b5e5  6b1b2405f            0       4\n",
       "7440  ID_622be4200  6b1b2405f            0       4\n",
       "7461  ID_1f91daf92  f2bfa75c4            0       3\n",
       "7462  ID_686d2639f  f2bfa75c4            0       3\n",
       "7463  ID_b84170356  f2bfa75c4            0       3\n",
       "7705  ID_c7c038825  03c6bdf85            0       3\n",
       "7706  ID_ebef0991f  03c6bdf85            0       3\n",
       "8431  ID_0f75a20b2  c0c8a5013            0       3\n",
       "8432  ID_dfab56985  c0c8a5013            0       3\n",
       "8433  ID_82ebed6d4  c0c8a5013            0       3"
      ]
     },
     "execution_count": 15,
     "metadata": {},
     "output_type": "execute_result"
    }
   ],
   "source": [
    "no_hof_data = data[data['idhogar'].isin(no_hof)]\n",
    "no_hof_data[['Id','idhogar','parentesco1','Target']]"
   ]
  },
  {
   "cell_type": "markdown",
   "metadata": {},
   "source": [
    "### 6. Setting poverty level of the members and the head of the house within a family"
   ]
  },
  {
   "cell_type": "markdown",
   "metadata": {},
   "source": [
    "- We take the family ids of 84 families obtained at the previous steps\n",
    "- We use pandas loc function to subsititute the poverty level of each members with Family Head poverty level."
   ]
  },
  {
   "cell_type": "code",
   "execution_count": 16,
   "metadata": {},
   "outputs": [
    {
     "name": "stdout",
     "output_type": "stream",
     "text": [
      "(84, 4)\n"
     ]
    },
    {
     "data": {
      "text/html": [
       "<div>\n",
       "<style scoped>\n",
       "    .dataframe tbody tr th:only-of-type {\n",
       "        vertical-align: middle;\n",
       "    }\n",
       "\n",
       "    .dataframe tbody tr th {\n",
       "        vertical-align: top;\n",
       "    }\n",
       "\n",
       "    .dataframe thead th {\n",
       "        text-align: right;\n",
       "    }\n",
       "</style>\n",
       "<table border=\"1\" class=\"dataframe\">\n",
       "  <thead>\n",
       "    <tr style=\"text-align: right;\">\n",
       "      <th></th>\n",
       "      <th>idhogar</th>\n",
       "      <th>hof_pl</th>\n",
       "      <th>members_pl</th>\n",
       "      <th>similar_pl</th>\n",
       "    </tr>\n",
       "  </thead>\n",
       "  <tbody>\n",
       "    <tr>\n",
       "      <th>5</th>\n",
       "      <td>3fe29a56b</td>\n",
       "      <td>3</td>\n",
       "      <td>2.600000</td>\n",
       "      <td>False</td>\n",
       "    </tr>\n",
       "    <tr>\n",
       "      <th>54</th>\n",
       "      <td>5c3f7725d</td>\n",
       "      <td>3</td>\n",
       "      <td>2.666667</td>\n",
       "      <td>False</td>\n",
       "    </tr>\n",
       "    <tr>\n",
       "      <th>100</th>\n",
       "      <td>594d3eb27</td>\n",
       "      <td>2</td>\n",
       "      <td>1.600000</td>\n",
       "      <td>False</td>\n",
       "    </tr>\n",
       "    <tr>\n",
       "      <th>116</th>\n",
       "      <td>43b9c83e5</td>\n",
       "      <td>2</td>\n",
       "      <td>1.800000</td>\n",
       "      <td>False</td>\n",
       "    </tr>\n",
       "    <tr>\n",
       "      <th>122</th>\n",
       "      <td>2c9872b82</td>\n",
       "      <td>1</td>\n",
       "      <td>2.000000</td>\n",
       "      <td>False</td>\n",
       "    </tr>\n",
       "  </tbody>\n",
       "</table>\n",
       "</div>"
      ],
      "text/plain": [
       "       idhogar  hof_pl  members_pl  similar_pl\n",
       "5    3fe29a56b       3    2.600000       False\n",
       "54   5c3f7725d       3    2.666667       False\n",
       "100  594d3eb27       2    1.600000       False\n",
       "116  43b9c83e5       2    1.800000       False\n",
       "122  2c9872b82       1    2.000000       False"
      ]
     },
     "execution_count": 16,
     "metadata": {},
     "output_type": "execute_result"
    }
   ],
   "source": [
    "not_similar_pl_families = poverty_level_families[(poverty_level_families['hof_pl'] > 0) & \n",
    "                                                (poverty_level_families['similar_pl'] == False)]\n",
    "print(not_similar_pl_families.shape)\n",
    "not_similar_pl_families.head()"
   ]
  },
  {
   "cell_type": "code",
   "execution_count": 17,
   "metadata": {},
   "outputs": [
    {
     "name": "stdout",
     "output_type": "stream",
     "text": [
      "Wall time: 257 ms\n"
     ]
    }
   ],
   "source": [
    "%%time\n",
    "for family in not_similar_pl_families.values:\n",
    "    index = data[data['idhogar'] == family[0]].index\n",
    "    data.loc[index, ['Target']] = family[1]"
   ]
  },
  {
   "cell_type": "markdown",
   "metadata": {},
   "source": [
    "**We perform a check on the household dataframe to confirm that we do not have any families with unsimilar poverty levels.**"
   ]
  },
  {
   "cell_type": "code",
   "execution_count": 18,
   "metadata": {},
   "outputs": [
    {
     "name": "stdout",
     "output_type": "stream",
     "text": [
      "Wall time: 9.61 s\n"
     ]
    },
    {
     "data": {
      "text/plain": [
       "True    2585\n",
       "Name: similar_pl, dtype: int64"
      ]
     },
     "execution_count": 18,
     "metadata": {},
     "output_type": "execute_result"
    }
   ],
   "source": [
    "%%time\n",
    "poverty_level_families = pd.DataFrame(check_similar_poverty_level(households[households.values > 1].index), \n",
    "                                      columns=['idhogar', 'hof_pl', 'members_pl', 'similar_pl'])\n",
    "poverty_level_families[poverty_level_families['hof_pl'] > 0].similar_pl.value_counts()"
   ]
  },
  {
   "cell_type": "markdown",
   "metadata": {},
   "source": [
    "### 7. Counting how many null values are existing in columns"
   ]
  },
  {
   "cell_type": "code",
   "execution_count": 19,
   "metadata": {},
   "outputs": [
    {
     "data": {
      "text/plain": [
       "v2a1         6860\n",
       "v18q1        7342\n",
       "rez_esc      7928\n",
       "meaneduc        5\n",
       "SQBmeaned       5\n",
       "dtype: int64"
      ]
     },
     "execution_count": 19,
     "metadata": {},
     "output_type": "execute_result"
    }
   ],
   "source": [
    "null_cols = data.isnull().sum()\n",
    "null_cols = null_cols[null_cols.values > 0]\n",
    "null_cols"
   ]
  },
  {
   "cell_type": "markdown",
   "metadata": {},
   "source": [
    "#### Null Value Columns description from data dictionary\n",
    "- **v2a1** - Monthly rent payment\n",
    "- **v18q1** - number of tablets household owns\n",
    "- **rez_esc** - Years behind in school\n",
    "- **meaneduc** - average years of education for adults (18+)\n",
    "- **SQBmeaned** - square of the mean years of education of adults (>=18) in the\n",
    "household"
   ]
  },
  {
   "cell_type": "code",
   "execution_count": 20,
   "metadata": {},
   "outputs": [
    {
     "data": {
      "text/html": [
       "<div>\n",
       "<style scoped>\n",
       "    .dataframe tbody tr th:only-of-type {\n",
       "        vertical-align: middle;\n",
       "    }\n",
       "\n",
       "    .dataframe tbody tr th {\n",
       "        vertical-align: top;\n",
       "    }\n",
       "\n",
       "    .dataframe thead th {\n",
       "        text-align: right;\n",
       "    }\n",
       "</style>\n",
       "<table border=\"1\" class=\"dataframe\">\n",
       "  <thead>\n",
       "    <tr style=\"text-align: right;\">\n",
       "      <th></th>\n",
       "      <th>v2a1</th>\n",
       "      <th>v18q1</th>\n",
       "      <th>rez_esc</th>\n",
       "      <th>meaneduc</th>\n",
       "      <th>SQBmeaned</th>\n",
       "    </tr>\n",
       "  </thead>\n",
       "  <tbody>\n",
       "    <tr>\n",
       "      <th>count</th>\n",
       "      <td>2.697000e+03</td>\n",
       "      <td>2215.000000</td>\n",
       "      <td>1629.000000</td>\n",
       "      <td>9552.000000</td>\n",
       "      <td>9552.000000</td>\n",
       "    </tr>\n",
       "    <tr>\n",
       "      <th>mean</th>\n",
       "      <td>1.652316e+05</td>\n",
       "      <td>1.404063</td>\n",
       "      <td>0.459791</td>\n",
       "      <td>9.231523</td>\n",
       "      <td>102.588867</td>\n",
       "    </tr>\n",
       "    <tr>\n",
       "      <th>std</th>\n",
       "      <td>1.504571e+05</td>\n",
       "      <td>0.763131</td>\n",
       "      <td>0.946550</td>\n",
       "      <td>4.167694</td>\n",
       "      <td>93.516890</td>\n",
       "    </tr>\n",
       "    <tr>\n",
       "      <th>min</th>\n",
       "      <td>0.000000e+00</td>\n",
       "      <td>1.000000</td>\n",
       "      <td>0.000000</td>\n",
       "      <td>0.000000</td>\n",
       "      <td>0.000000</td>\n",
       "    </tr>\n",
       "    <tr>\n",
       "      <th>25%</th>\n",
       "      <td>8.000000e+04</td>\n",
       "      <td>1.000000</td>\n",
       "      <td>0.000000</td>\n",
       "      <td>6.000000</td>\n",
       "      <td>36.000000</td>\n",
       "    </tr>\n",
       "    <tr>\n",
       "      <th>50%</th>\n",
       "      <td>1.300000e+05</td>\n",
       "      <td>1.000000</td>\n",
       "      <td>0.000000</td>\n",
       "      <td>9.000000</td>\n",
       "      <td>81.000000</td>\n",
       "    </tr>\n",
       "    <tr>\n",
       "      <th>75%</th>\n",
       "      <td>2.000000e+05</td>\n",
       "      <td>2.000000</td>\n",
       "      <td>1.000000</td>\n",
       "      <td>11.600000</td>\n",
       "      <td>134.560010</td>\n",
       "    </tr>\n",
       "    <tr>\n",
       "      <th>max</th>\n",
       "      <td>2.353477e+06</td>\n",
       "      <td>6.000000</td>\n",
       "      <td>5.000000</td>\n",
       "      <td>37.000000</td>\n",
       "      <td>1369.000000</td>\n",
       "    </tr>\n",
       "  </tbody>\n",
       "</table>\n",
       "</div>"
      ],
      "text/plain": [
       "               v2a1        v18q1      rez_esc     meaneduc    SQBmeaned\n",
       "count  2.697000e+03  2215.000000  1629.000000  9552.000000  9552.000000\n",
       "mean   1.652316e+05     1.404063     0.459791     9.231523   102.588867\n",
       "std    1.504571e+05     0.763131     0.946550     4.167694    93.516890\n",
       "min    0.000000e+00     1.000000     0.000000     0.000000     0.000000\n",
       "25%    8.000000e+04     1.000000     0.000000     6.000000    36.000000\n",
       "50%    1.300000e+05     1.000000     0.000000     9.000000    81.000000\n",
       "75%    2.000000e+05     2.000000     1.000000    11.600000   134.560010\n",
       "max    2.353477e+06     6.000000     5.000000    37.000000  1369.000000"
      ]
     },
     "execution_count": 20,
     "metadata": {},
     "output_type": "execute_result"
    }
   ],
   "source": [
    "data[list(null_cols.index)].describe()"
   ]
  },
  {
   "cell_type": "markdown",
   "metadata": {},
   "source": [
    "### 8. Removing null value rows of the target variable"
   ]
  },
  {
   "cell_type": "markdown",
   "metadata": {},
   "source": [
    "*The target variable do not possess any null values.*"
   ]
  },
  {
   "cell_type": "code",
   "execution_count": 21,
   "metadata": {},
   "outputs": [
    {
     "data": {
      "text/plain": [
       "False"
      ]
     },
     "execution_count": 21,
     "metadata": {},
     "output_type": "execute_result"
    }
   ],
   "source": [
    "data['Target'].isnull().any()"
   ]
  },
  {
   "cell_type": "markdown",
   "metadata": {},
   "source": [
    "### 9. Predicting the accuracy using random forest classifier."
   ]
  },
  {
   "cell_type": "markdown",
   "metadata": {},
   "source": [
    "#### Data pre-processing required before applying ML models:\n",
    "- Removing the identifier columns.\n",
    "- Removal of high density null value columns.\n",
    "- Substitution of mode value in missing data columns of low density.\n",
    "- Substitution of string values to numerical in the object dtype columns."
   ]
  },
  {
   "cell_type": "code",
   "execution_count": 22,
   "metadata": {},
   "outputs": [],
   "source": [
    "# Removal of identifier and high density null columns\n",
    "data_cleaned = data.drop(['Id', 'idhogar', 'v2a1', 'v18q1', 'rez_esc'], axis=1)"
   ]
  },
  {
   "cell_type": "code",
   "execution_count": 23,
   "metadata": {},
   "outputs": [],
   "source": [
    "# Substitution of median value in low density missing data columns\n",
    "data_cleaned[['meaneduc']] = data_cleaned[['meaneduc']].fillna(int(data_cleaned['meaneduc'].median()))\n",
    "data_cleaned[['SQBmeaned']] = data_cleaned[['SQBmeaned']].fillna(int(data_cleaned['SQBmeaned'].median()))"
   ]
  },
  {
   "cell_type": "code",
   "execution_count": 24,
   "metadata": {},
   "outputs": [
    {
     "data": {
      "text/plain": [
       "Index(['dependency', 'edjefe', 'edjefa'], dtype='object')"
      ]
     },
     "execution_count": 24,
     "metadata": {},
     "output_type": "execute_result"
    }
   ],
   "source": [
    "# Identifying the object based columns in the dataset\n",
    "obj_cols = data_cleaned.dtypes\n",
    "obj_cols[obj_cols.values == 'object'].index"
   ]
  },
  {
   "cell_type": "code",
   "execution_count": 25,
   "metadata": {},
   "outputs": [
    {
     "data": {
      "text/html": [
       "<div>\n",
       "<style scoped>\n",
       "    .dataframe tbody tr th:only-of-type {\n",
       "        vertical-align: middle;\n",
       "    }\n",
       "\n",
       "    .dataframe tbody tr th {\n",
       "        vertical-align: top;\n",
       "    }\n",
       "\n",
       "    .dataframe thead th {\n",
       "        text-align: right;\n",
       "    }\n",
       "</style>\n",
       "<table border=\"1\" class=\"dataframe\">\n",
       "  <thead>\n",
       "    <tr style=\"text-align: right;\">\n",
       "      <th></th>\n",
       "      <th>dependency</th>\n",
       "      <th>edjefe</th>\n",
       "      <th>edjefa</th>\n",
       "    </tr>\n",
       "  </thead>\n",
       "  <tbody>\n",
       "    <tr>\n",
       "      <th>count</th>\n",
       "      <td>9557</td>\n",
       "      <td>9557</td>\n",
       "      <td>9557</td>\n",
       "    </tr>\n",
       "    <tr>\n",
       "      <th>unique</th>\n",
       "      <td>31</td>\n",
       "      <td>22</td>\n",
       "      <td>22</td>\n",
       "    </tr>\n",
       "    <tr>\n",
       "      <th>top</th>\n",
       "      <td>yes</td>\n",
       "      <td>no</td>\n",
       "      <td>no</td>\n",
       "    </tr>\n",
       "    <tr>\n",
       "      <th>freq</th>\n",
       "      <td>2192</td>\n",
       "      <td>3762</td>\n",
       "      <td>6230</td>\n",
       "    </tr>\n",
       "  </tbody>\n",
       "</table>\n",
       "</div>"
      ],
      "text/plain": [
       "       dependency edjefe edjefa\n",
       "count        9557   9557   9557\n",
       "unique         31     22     22\n",
       "top           yes     no     no\n",
       "freq         2192   3762   6230"
      ]
     },
     "execution_count": 25,
     "metadata": {},
     "output_type": "execute_result"
    }
   ],
   "source": [
    "data_cleaned[['dependency','edjefe','edjefa']].describe()"
   ]
  },
  {
   "cell_type": "markdown",
   "metadata": {},
   "source": [
    "#### Object type Columns Description\n",
    "- **dependency** - Dependency rate, calculated = (number of members of the household younger than 19 or older than 64)/(number of member of household between 19 and 64)\n",
    "- **edjefe** - years of education of male head of household, based on the interaction of escolari (years of education), head of household and gender, yes=1 and no=0\n",
    "- **edjefa** - years of education of female head of household, based on the interaction of escolari (years of education), head of household and gender, yes=1 and no=0"
   ]
  },
  {
   "cell_type": "code",
   "execution_count": 26,
   "metadata": {},
   "outputs": [],
   "source": [
    "# Substituting Yes = 1 and No = 0 for the three object based columns\n",
    "\n",
    "data_cleaned[['dependency','edjefe','edjefa']] = data_cleaned[['dependency','edjefe','edjefa']].replace({'yes': 1, \n",
    "                                                                                                        'no': 0})"
   ]
  },
  {
   "cell_type": "code",
   "execution_count": 27,
   "metadata": {},
   "outputs": [
    {
     "data": {
      "text/plain": [
       "array([dtype('int64'), dtype('float64'), dtype('O')], dtype=object)"
      ]
     },
     "execution_count": 27,
     "metadata": {},
     "output_type": "execute_result"
    }
   ],
   "source": [
    "# Checking for any object columnsin the dataset.\n",
    "\n",
    "np.unique(data_cleaned.dtypes.values)"
   ]
  },
  {
   "cell_type": "code",
   "execution_count": 28,
   "metadata": {},
   "outputs": [
    {
     "data": {
      "text/plain": [
       "(9557, 138)"
      ]
     },
     "execution_count": 28,
     "metadata": {},
     "output_type": "execute_result"
    }
   ],
   "source": [
    "# Finsl shape of the dataset forapplyinh ML models\n",
    "\n",
    "data_cleaned.shape"
   ]
  },
  {
   "cell_type": "code",
   "execution_count": 29,
   "metadata": {},
   "outputs": [
    {
     "data": {
      "text/plain": [
       "array([False])"
      ]
     },
     "execution_count": 29,
     "metadata": {},
     "output_type": "execute_result"
    }
   ],
   "source": [
    "# Final check for presence of null values\n",
    "\n",
    "np.unique(data_cleaned.isnull().any().values)"
   ]
  },
  {
   "cell_type": "markdown",
   "metadata": {},
   "source": [
    "#### Extracting the features and the target variable from the dataset"
   ]
  },
  {
   "cell_type": "code",
   "execution_count": 30,
   "metadata": {},
   "outputs": [],
   "source": [
    "X = data_cleaned.drop(['Target'], axis=1)\n",
    "y = data_cleaned['Target']"
   ]
  },
  {
   "cell_type": "markdown",
   "metadata": {},
   "source": [
    "#### Splitting the dataset for training and testing in the 70:30 ratio."
   ]
  },
  {
   "cell_type": "code",
   "execution_count": 57,
   "metadata": {},
   "outputs": [
    {
     "name": "stdout",
     "output_type": "stream",
     "text": [
      "Train:  ((6689, 137), (6689,))\n",
      "Test:  ((2868, 137), (2868,))\n"
     ]
    }
   ],
   "source": [
    "from sklearn.model_selection import train_test_split\n",
    " \n",
    "X_train, X_test, y_train, y_test = train_test_split(X, y, test_size = 0.3, random_state = 42)\n",
    "\n",
    "print(\"Train: \",(X_train.shape, y_train.shape))\n",
    "print(\"Test: \",(X_test.shape, y_test.shape))"
   ]
  },
  {
   "cell_type": "markdown",
   "metadata": {},
   "source": [
    "#### Applying RandomForestClassifier Model to the training dataset"
   ]
  },
  {
   "cell_type": "code",
   "execution_count": 58,
   "metadata": {},
   "outputs": [],
   "source": [
    "from sklearn.ensemble import RandomForestClassifier\n",
    "\n",
    "rf_clf = RandomForestClassifier(n_estimators=100, random_state=42)  "
   ]
  },
  {
   "cell_type": "code",
   "execution_count": 77,
   "metadata": {},
   "outputs": [],
   "source": [
    "rf_clf.fit(X_train, y_train)\n",
    "rf_predictions = rf_clf.predict(X_test)\n",
    "rf_probs = rf_clf.predict_proba(X_test)"
   ]
  },
  {
   "cell_type": "markdown",
   "metadata": {},
   "source": [
    "#### Model accuracy score is 92%."
   ]
  },
  {
   "cell_type": "code",
   "execution_count": 78,
   "metadata": {},
   "outputs": [
    {
     "name": "stdout",
     "output_type": "stream",
     "text": [
      "Accuracy: 0.9180613668061367\n"
     ]
    }
   ],
   "source": [
    "#Import scikit-learn metrics module for accuracy calculation\n",
    "from sklearn import metrics\n",
    "# Model Accuracy, how often is the classifier correct?\n",
    "print(\"Accuracy:\",metrics.accuracy_score(y_test, rf_predictions))"
   ]
  },
  {
   "cell_type": "markdown",
   "metadata": {},
   "source": [
    "### 10. Checking the accuracy using random forest with cross validation."
   ]
  },
  {
   "cell_type": "markdown",
   "metadata": {},
   "source": [
    "#### Mean Cross Validation Score with default StratifiedFolds=5 is 61%"
   ]
  },
  {
   "cell_type": "code",
   "execution_count": 85,
   "metadata": {},
   "outputs": [
    {
     "data": {
      "text/plain": [
       "0.6124216986440537"
      ]
     },
     "execution_count": 85,
     "metadata": {},
     "output_type": "execute_result"
    }
   ],
   "source": [
    "from sklearn.model_selection import cross_val_score\n",
    "scores = cross_val_score(RandomForestClassifier(n_estimators=100), X, y)\n",
    "scores.mean()"
   ]
  },
  {
   "cell_type": "markdown",
   "metadata": {},
   "source": [
    "> ***Since the the sample dataset is imbalance and biased the accuracy is not the appropriate metric to judge the model performance.***"
   ]
  },
  {
   "cell_type": "markdown",
   "metadata": {},
   "source": [
    "#### Applying roc_auc_score, multilabel_confusion_matrix and classification_report to gain a better insight into the model performance."
   ]
  },
  {
   "cell_type": "code",
   "execution_count": 80,
   "metadata": {},
   "outputs": [
    {
     "data": {
      "text/plain": [
       "0.9785085906270052"
      ]
     },
     "execution_count": 80,
     "metadata": {},
     "output_type": "execute_result"
    }
   ],
   "source": [
    "from sklearn.metrics import roc_auc_score, roc_curve, auc\n",
    "\n",
    "roc_auc_score(y_test, rf_probs, 'weighted', multi_class='ovr')"
   ]
  },
  {
   "cell_type": "code",
   "execution_count": 83,
   "metadata": {},
   "outputs": [
    {
     "data": {
      "text/plain": [
       "array([[[2612,    7],\n",
       "        [  46,  203]],\n",
       "\n",
       "       [[2386,   20],\n",
       "        [  72,  390]],\n",
       "\n",
       "       [[2478,    8],\n",
       "        [ 103,  279]],\n",
       "\n",
       "       [[ 893,  200],\n",
       "        [  14, 1761]]], dtype=int64)"
      ]
     },
     "execution_count": 83,
     "metadata": {},
     "output_type": "execute_result"
    }
   ],
   "source": [
    "from sklearn.metrics import multilabel_confusion_matrix\n",
    "\n",
    "multilabel_confusion_matrix(y_test, rf_predictions)"
   ]
  },
  {
   "cell_type": "code",
   "execution_count": 84,
   "metadata": {},
   "outputs": [
    {
     "name": "stdout",
     "output_type": "stream",
     "text": [
      "              precision    recall  f1-score   support\n",
      "\n",
      "           1   0.966667  0.815261  0.884532       249\n",
      "           2   0.951220  0.844156  0.894495       462\n",
      "           3   0.972125  0.730366  0.834081       382\n",
      "           4   0.898011  0.992113  0.942719      1775\n",
      "\n",
      "    accuracy                       0.918061      2868\n",
      "   macro avg   0.947006  0.845474  0.888957      2868\n",
      "weighted avg   0.922415  0.918061  0.915429      2868\n",
      "\n"
     ]
    }
   ],
   "source": [
    "from sklearn.metrics import classification_report\n",
    "\n",
    "report = classification_report(\n",
    "    digits=6,\n",
    "    y_true=y_test, \n",
    "    y_pred=rf_predictions)\n",
    "print(report)"
   ]
  },
  {
   "cell_type": "markdown",
   "metadata": {},
   "source": [
    "]"
   ]
  },
  {
   "cell_type": "markdown",
   "metadata": {},
   "source": [
    "> From the above results of f1-score it can be summarized as follows:\n",
    "1. The model performs best for class label 4\n",
    "2. The model performs similarlyfor classlabel 1 and 2.\n",
    "3. The model has least performance measure for class label 3."
   ]
  },
  {
   "cell_type": "code",
   "execution_count": null,
   "metadata": {},
   "outputs": [],
   "source": []
  }
 ],
 "metadata": {
  "kernelspec": {
   "display_name": "Python 3",
   "language": "python",
   "name": "python3"
  },
  "language_info": {
   "codemirror_mode": {
    "name": "ipython",
    "version": 3
   },
   "file_extension": ".py",
   "mimetype": "text/x-python",
   "name": "python",
   "nbconvert_exporter": "python",
   "pygments_lexer": "ipython3",
   "version": "3.7.3"
  }
 },
 "nbformat": 4,
 "nbformat_minor": 4
}
