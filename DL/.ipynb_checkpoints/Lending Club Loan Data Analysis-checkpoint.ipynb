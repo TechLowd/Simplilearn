{
 "cells": [
  {
   "cell_type": "markdown",
   "metadata": {},
   "source": [
    "# Lending Club Loan Data Analysis"
   ]
  },
  {
   "cell_type": "markdown",
   "metadata": {},
   "source": [
    "#### DESCRIPTION\n",
    "\n",
    "Create a model that predicts whether or not a loan will be default using the historical data."
   ]
  },
  {
   "cell_type": "markdown",
   "metadata": {},
   "source": [
    "#### Problem Statement:  \n",
    "\n",
    "For companies like Lending Club correctly predicting whether or not a loan will be a default is very important. In this project, using the historical data from 2007 to 2015, you have to build a deep learning model to predict the chance of default for future loans. As you will see later this dataset is highly imbalanced and includes a lot of features that makes this problem more challenging."
   ]
  },
  {
   "cell_type": "markdown",
   "metadata": {},
   "source": [
    "#### Domain: Finance"
   ]
  },
  {
   "cell_type": "markdown",
   "metadata": {},
   "source": [
    "__Analysis to be done:___ Perform data preprocessing and build a deep learning prediction model. "
   ]
  },
  {
   "cell_type": "markdown",
   "metadata": {},
   "source": [
    "#### Dataset columns and definition:\n",
    "\n",
    " \n",
    "- credit.policy: 1 if the customer meets the credit underwriting criteria of LendingClub.com, and 0 otherwise.\n",
    "\n",
    "- purpose: The purpose of the loan (takes values \"credit_card\", \"debt_consolidation\", \"educational\", \"major_purchase\", \"small_business\", and \"all_other\").\n",
    "\n",
    "- int.rate: The interest rate of the loan, as a proportion (a rate of 11% would be stored as 0.11). Borrowers judged by LendingClub.com to be more risky are assigned higher interest rates.\n",
    "\n",
    "- installment: The monthly installments owed by the borrower if the loan is funded.\n",
    "\n",
    "- log.annual.inc: The natural log of the self-reported annual income of the borrower.\n",
    "\n",
    "- dti: The debt-to-income ratio of the borrower (amount of debt divided by annual income).\n",
    "\n",
    "- fico: The FICO credit score of the borrower.\n",
    "\n",
    "- days.with.cr.line: The number of days the borrower has had a credit line.\n",
    "\n",
    "- revol.bal: The borrower's revolving balance (amount unpaid at the end of the credit card billing cycle).\n",
    "\n",
    "- revol.util: The borrower's revolving line utilization rate (the amount of the credit line used relative to total credit available).\n",
    "\n",
    "- inq.last.6mths: The borrower's number of inquiries by creditors in the last 6 months.\n",
    "\n",
    "- delinq.2yrs: The number of times the borrower had been 30+ days past due on a payment in the past 2 years.\n",
    "\n",
    "- pub.rec: The borrower's number of derogatory public records (bankruptcy filings, tax liens, or judgments)."
   ]
  },
  {
   "cell_type": "markdown",
   "metadata": {},
   "source": [
    "#### Steps to perform:\n",
    "\n",
    "Perform exploratory data analysis and feature engineering and then apply feature engineering. Follow up with a deep learning model to predict whether or not the loan will be default using the historical data."
   ]
  },
  {
   "cell_type": "markdown",
   "metadata": {},
   "source": [
    "#### Tasks:\n",
    "\n",
    "1. __Feature Transformation__\n",
    "\n",
    " - Transform categorical values into numerical values (discrete)\n",
    "\n",
    "2. __Exploratory data analysis of different factors of the dataset.__\n",
    "\n",
    "3. __Additional Feature Engineering__\n",
    "\n",
    " - You will check the correlation between features and will drop those features which have a strong correlation. This will help reduce the number of features and will leave you with the most relevant features\n",
    "\n",
    "4. __Modeling__\n",
    "\n",
    " - After applying EDA and feature engineering, you are now ready to build the predictive models\n",
    "\n",
    " - In this part, you will create a deep learning model using Keras with Tensorflow backend"
   ]
  },
  {
   "cell_type": "markdown",
   "metadata": {},
   "source": [
    "__Setting up the Environment__"
   ]
  },
  {
   "cell_type": "code",
   "execution_count": 1,
   "metadata": {},
   "outputs": [
    {
     "name": "stderr",
     "output_type": "stream",
     "text": [
      "Using TensorFlow backend.\n"
     ]
    }
   ],
   "source": [
    "import numpy as np\n",
    "import pandas as pd\n",
    "import tensorflow as tf\n",
    "import keras\n",
    "import matplotlib.pyplot as plt\n",
    "import seaborn as sns\n",
    "\n",
    "%matplotlib inline"
   ]
  },
  {
   "cell_type": "code",
   "execution_count": 2,
   "metadata": {},
   "outputs": [
    {
     "name": "stdout",
     "output_type": "stream",
     "text": [
      "Numpy:  1.18.1\n",
      "Pandas:  1.0.3\n",
      "TensorFlow:  2.1.0\n",
      "Keras:  2.3.1\n",
      "Seaborn:  0.10.1\n"
     ]
    }
   ],
   "source": [
    "print(\"Numpy: \",np.__version__)\n",
    "print(\"Pandas: \",pd.__version__)\n",
    "print(\"TensorFlow: \",tf.__version__)\n",
    "print(\"Keras: \",keras.__version__)\n",
    "print(\"Seaborn: \",sns.__version__)"
   ]
  },
  {
   "cell_type": "markdown",
   "metadata": {},
   "source": [
    "#### Reading the dataset"
   ]
  },
  {
   "cell_type": "code",
   "execution_count": 3,
   "metadata": {},
   "outputs": [
    {
     "data": {
      "text/html": [
       "<div>\n",
       "<style scoped>\n",
       "    .dataframe tbody tr th:only-of-type {\n",
       "        vertical-align: middle;\n",
       "    }\n",
       "\n",
       "    .dataframe tbody tr th {\n",
       "        vertical-align: top;\n",
       "    }\n",
       "\n",
       "    .dataframe thead th {\n",
       "        text-align: right;\n",
       "    }\n",
       "</style>\n",
       "<table border=\"1\" class=\"dataframe\">\n",
       "  <thead>\n",
       "    <tr style=\"text-align: right;\">\n",
       "      <th></th>\n",
       "      <th>credit.policy</th>\n",
       "      <th>purpose</th>\n",
       "      <th>int.rate</th>\n",
       "      <th>installment</th>\n",
       "      <th>log.annual.inc</th>\n",
       "      <th>dti</th>\n",
       "      <th>fico</th>\n",
       "      <th>days.with.cr.line</th>\n",
       "      <th>revol.bal</th>\n",
       "      <th>revol.util</th>\n",
       "      <th>inq.last.6mths</th>\n",
       "      <th>delinq.2yrs</th>\n",
       "      <th>pub.rec</th>\n",
       "      <th>not.fully.paid</th>\n",
       "    </tr>\n",
       "  </thead>\n",
       "  <tbody>\n",
       "    <tr>\n",
       "      <th>0</th>\n",
       "      <td>1</td>\n",
       "      <td>debt_consolidation</td>\n",
       "      <td>0.1189</td>\n",
       "      <td>829.10</td>\n",
       "      <td>11.350407</td>\n",
       "      <td>19.48</td>\n",
       "      <td>737</td>\n",
       "      <td>5639.958333</td>\n",
       "      <td>28854</td>\n",
       "      <td>52.1</td>\n",
       "      <td>0</td>\n",
       "      <td>0</td>\n",
       "      <td>0</td>\n",
       "      <td>0</td>\n",
       "    </tr>\n",
       "    <tr>\n",
       "      <th>1</th>\n",
       "      <td>1</td>\n",
       "      <td>credit_card</td>\n",
       "      <td>0.1071</td>\n",
       "      <td>228.22</td>\n",
       "      <td>11.082143</td>\n",
       "      <td>14.29</td>\n",
       "      <td>707</td>\n",
       "      <td>2760.000000</td>\n",
       "      <td>33623</td>\n",
       "      <td>76.7</td>\n",
       "      <td>0</td>\n",
       "      <td>0</td>\n",
       "      <td>0</td>\n",
       "      <td>0</td>\n",
       "    </tr>\n",
       "    <tr>\n",
       "      <th>2</th>\n",
       "      <td>1</td>\n",
       "      <td>debt_consolidation</td>\n",
       "      <td>0.1357</td>\n",
       "      <td>366.86</td>\n",
       "      <td>10.373491</td>\n",
       "      <td>11.63</td>\n",
       "      <td>682</td>\n",
       "      <td>4710.000000</td>\n",
       "      <td>3511</td>\n",
       "      <td>25.6</td>\n",
       "      <td>1</td>\n",
       "      <td>0</td>\n",
       "      <td>0</td>\n",
       "      <td>0</td>\n",
       "    </tr>\n",
       "    <tr>\n",
       "      <th>3</th>\n",
       "      <td>1</td>\n",
       "      <td>debt_consolidation</td>\n",
       "      <td>0.1008</td>\n",
       "      <td>162.34</td>\n",
       "      <td>11.350407</td>\n",
       "      <td>8.10</td>\n",
       "      <td>712</td>\n",
       "      <td>2699.958333</td>\n",
       "      <td>33667</td>\n",
       "      <td>73.2</td>\n",
       "      <td>1</td>\n",
       "      <td>0</td>\n",
       "      <td>0</td>\n",
       "      <td>0</td>\n",
       "    </tr>\n",
       "    <tr>\n",
       "      <th>4</th>\n",
       "      <td>1</td>\n",
       "      <td>credit_card</td>\n",
       "      <td>0.1426</td>\n",
       "      <td>102.92</td>\n",
       "      <td>11.299732</td>\n",
       "      <td>14.97</td>\n",
       "      <td>667</td>\n",
       "      <td>4066.000000</td>\n",
       "      <td>4740</td>\n",
       "      <td>39.5</td>\n",
       "      <td>0</td>\n",
       "      <td>1</td>\n",
       "      <td>0</td>\n",
       "      <td>0</td>\n",
       "    </tr>\n",
       "  </tbody>\n",
       "</table>\n",
       "</div>"
      ],
      "text/plain": [
       "   credit.policy             purpose  int.rate  installment  log.annual.inc  \\\n",
       "0              1  debt_consolidation    0.1189       829.10       11.350407   \n",
       "1              1         credit_card    0.1071       228.22       11.082143   \n",
       "2              1  debt_consolidation    0.1357       366.86       10.373491   \n",
       "3              1  debt_consolidation    0.1008       162.34       11.350407   \n",
       "4              1         credit_card    0.1426       102.92       11.299732   \n",
       "\n",
       "     dti  fico  days.with.cr.line  revol.bal  revol.util  inq.last.6mths  \\\n",
       "0  19.48   737        5639.958333      28854        52.1               0   \n",
       "1  14.29   707        2760.000000      33623        76.7               0   \n",
       "2  11.63   682        4710.000000       3511        25.6               1   \n",
       "3   8.10   712        2699.958333      33667        73.2               1   \n",
       "4  14.97   667        4066.000000       4740        39.5               0   \n",
       "\n",
       "   delinq.2yrs  pub.rec  not.fully.paid  \n",
       "0            0        0               0  \n",
       "1            0        0               0  \n",
       "2            0        0               0  \n",
       "3            0        0               0  \n",
       "4            1        0               0  "
      ]
     },
     "execution_count": 3,
     "metadata": {},
     "output_type": "execute_result"
    }
   ],
   "source": [
    "data = pd.read_csv(\"loan_data.csv\")\n",
    "data.head()"
   ]
  },
  {
   "cell_type": "markdown",
   "metadata": {},
   "source": [
    "#### Describing the dataset"
   ]
  },
  {
   "cell_type": "code",
   "execution_count": 4,
   "metadata": {},
   "outputs": [
    {
     "name": "stdout",
     "output_type": "stream",
     "text": [
      "<class 'pandas.core.frame.DataFrame'>\n",
      "RangeIndex: 9578 entries, 0 to 9577\n",
      "Data columns (total 14 columns):\n",
      " #   Column             Non-Null Count  Dtype  \n",
      "---  ------             --------------  -----  \n",
      " 0   credit.policy      9578 non-null   int64  \n",
      " 1   purpose            9578 non-null   object \n",
      " 2   int.rate           9578 non-null   float64\n",
      " 3   installment        9578 non-null   float64\n",
      " 4   log.annual.inc     9578 non-null   float64\n",
      " 5   dti                9578 non-null   float64\n",
      " 6   fico               9578 non-null   int64  \n",
      " 7   days.with.cr.line  9578 non-null   float64\n",
      " 8   revol.bal          9578 non-null   int64  \n",
      " 9   revol.util         9578 non-null   float64\n",
      " 10  inq.last.6mths     9578 non-null   int64  \n",
      " 11  delinq.2yrs        9578 non-null   int64  \n",
      " 12  pub.rec            9578 non-null   int64  \n",
      " 13  not.fully.paid     9578 non-null   int64  \n",
      "dtypes: float64(6), int64(7), object(1)\n",
      "memory usage: 1.0+ MB\n"
     ]
    }
   ],
   "source": [
    "data.info()"
   ]
  },
  {
   "cell_type": "markdown",
   "metadata": {},
   "source": [
    "___Finding imbalance in the dataset___"
   ]
  },
  {
   "cell_type": "code",
   "execution_count": 5,
   "metadata": {},
   "outputs": [
    {
     "data": {
      "text/html": [
       "<div>\n",
       "<style scoped>\n",
       "    .dataframe tbody tr th:only-of-type {\n",
       "        vertical-align: middle;\n",
       "    }\n",
       "\n",
       "    .dataframe tbody tr th {\n",
       "        vertical-align: top;\n",
       "    }\n",
       "\n",
       "    .dataframe thead th {\n",
       "        text-align: right;\n",
       "    }\n",
       "</style>\n",
       "<table border=\"1\" class=\"dataframe\">\n",
       "  <thead>\n",
       "    <tr style=\"text-align: right;\">\n",
       "      <th></th>\n",
       "      <th>not.fully.paid</th>\n",
       "      <th>repr</th>\n",
       "    </tr>\n",
       "  </thead>\n",
       "  <tbody>\n",
       "    <tr>\n",
       "      <th>0</th>\n",
       "      <td>8045</td>\n",
       "      <td>83.994571</td>\n",
       "    </tr>\n",
       "    <tr>\n",
       "      <th>1</th>\n",
       "      <td>1533</td>\n",
       "      <td>16.005429</td>\n",
       "    </tr>\n",
       "  </tbody>\n",
       "</table>\n",
       "</div>"
      ],
      "text/plain": [
       "   not.fully.paid       repr\n",
       "0            8045  83.994571\n",
       "1            1533  16.005429"
      ]
     },
     "execution_count": 5,
     "metadata": {},
     "output_type": "execute_result"
    }
   ],
   "source": [
    "imbalance = pd.DataFrame(data['not.fully.paid'].value_counts())\n",
    "imbalance['repr'] = imbalance['not.fully.paid'] / np.sum(imbalance['not.fully.paid']) * 100\n",
    "imbalance"
   ]
  },
  {
   "cell_type": "code",
   "execution_count": 6,
   "metadata": {},
   "outputs": [
    {
     "data": {
      "image/png": "[encoded data removed]",
      "text/plain": [
       "<Figure size 720x432 with 1 Axes>"
      ]
     },
     "metadata": {},
     "output_type": "display_data"
    }
   ],
   "source": [
    "imbalance.plot(kind='pie',y='not.fully.paid',figsize=(10,6))\n",
    "plt.show()"
   ]
  },
  {
   "cell_type": "markdown",
   "metadata": {},
   "source": [
    "_From the above graph, it is evident that the dataset is highly imbalanced as class 0 represents 84% of the sample space._"
   ]
  },
  {
   "cell_type": "markdown",
   "metadata": {},
   "source": [
    "#### Feature Transformation - Transform categorical values into numerical values (discrete)"
   ]
  },
  {
   "cell_type": "code",
   "execution_count": 7,
   "metadata": {},
   "outputs": [
    {
     "data": {
      "text/plain": [
       "debt_consolidation    3957\n",
       "all_other             2331\n",
       "credit_card           1262\n",
       "home_improvement       629\n",
       "small_business         619\n",
       "major_purchase         437\n",
       "educational            343\n",
       "Name: purpose, dtype: int64"
      ]
     },
     "execution_count": 7,
     "metadata": {},
     "output_type": "execute_result"
    }
   ],
   "source": [
    "data['purpose'].value_counts()"
   ]
  },
  {
   "cell_type": "code",
   "execution_count": 8,
   "metadata": {},
   "outputs": [],
   "source": [
    "from sklearn import preprocessing\n",
    "le = preprocessing.LabelEncoder()\n",
    "le.fit(data['purpose'])\n",
    "le.transform(data['purpose'])\n",
    "le.classes_\n",
    "\n",
    "data['purpose'] = le.fit_transform(data['purpose'])"
   ]
  },
  {
   "cell_type": "code",
   "execution_count": 9,
   "metadata": {},
   "outputs": [
    {
     "data": {
      "text/html": [
       "<div>\n",
       "<style scoped>\n",
       "    .dataframe tbody tr th:only-of-type {\n",
       "        vertical-align: middle;\n",
       "    }\n",
       "\n",
       "    .dataframe tbody tr th {\n",
       "        vertical-align: top;\n",
       "    }\n",
       "\n",
       "    .dataframe thead th {\n",
       "        text-align: right;\n",
       "    }\n",
       "</style>\n",
       "<table border=\"1\" class=\"dataframe\">\n",
       "  <thead>\n",
       "    <tr style=\"text-align: right;\">\n",
       "      <th></th>\n",
       "      <th>credit.policy</th>\n",
       "      <th>purpose</th>\n",
       "      <th>int.rate</th>\n",
       "      <th>installment</th>\n",
       "      <th>log.annual.inc</th>\n",
       "      <th>dti</th>\n",
       "      <th>fico</th>\n",
       "      <th>days.with.cr.line</th>\n",
       "      <th>revol.bal</th>\n",
       "      <th>revol.util</th>\n",
       "      <th>inq.last.6mths</th>\n",
       "      <th>delinq.2yrs</th>\n",
       "      <th>pub.rec</th>\n",
       "      <th>not.fully.paid</th>\n",
       "    </tr>\n",
       "  </thead>\n",
       "  <tbody>\n",
       "    <tr>\n",
       "      <th>0</th>\n",
       "      <td>1</td>\n",
       "      <td>2</td>\n",
       "      <td>0.1189</td>\n",
       "      <td>829.10</td>\n",
       "      <td>11.350407</td>\n",
       "      <td>19.48</td>\n",
       "      <td>737</td>\n",
       "      <td>5639.958333</td>\n",
       "      <td>28854</td>\n",
       "      <td>52.1</td>\n",
       "      <td>0</td>\n",
       "      <td>0</td>\n",
       "      <td>0</td>\n",
       "      <td>0</td>\n",
       "    </tr>\n",
       "    <tr>\n",
       "      <th>1</th>\n",
       "      <td>1</td>\n",
       "      <td>1</td>\n",
       "      <td>0.1071</td>\n",
       "      <td>228.22</td>\n",
       "      <td>11.082143</td>\n",
       "      <td>14.29</td>\n",
       "      <td>707</td>\n",
       "      <td>2760.000000</td>\n",
       "      <td>33623</td>\n",
       "      <td>76.7</td>\n",
       "      <td>0</td>\n",
       "      <td>0</td>\n",
       "      <td>0</td>\n",
       "      <td>0</td>\n",
       "    </tr>\n",
       "    <tr>\n",
       "      <th>2</th>\n",
       "      <td>1</td>\n",
       "      <td>2</td>\n",
       "      <td>0.1357</td>\n",
       "      <td>366.86</td>\n",
       "      <td>10.373491</td>\n",
       "      <td>11.63</td>\n",
       "      <td>682</td>\n",
       "      <td>4710.000000</td>\n",
       "      <td>3511</td>\n",
       "      <td>25.6</td>\n",
       "      <td>1</td>\n",
       "      <td>0</td>\n",
       "      <td>0</td>\n",
       "      <td>0</td>\n",
       "    </tr>\n",
       "    <tr>\n",
       "      <th>3</th>\n",
       "      <td>1</td>\n",
       "      <td>2</td>\n",
       "      <td>0.1008</td>\n",
       "      <td>162.34</td>\n",
       "      <td>11.350407</td>\n",
       "      <td>8.10</td>\n",
       "      <td>712</td>\n",
       "      <td>2699.958333</td>\n",
       "      <td>33667</td>\n",
       "      <td>73.2</td>\n",
       "      <td>1</td>\n",
       "      <td>0</td>\n",
       "      <td>0</td>\n",
       "      <td>0</td>\n",
       "    </tr>\n",
       "    <tr>\n",
       "      <th>4</th>\n",
       "      <td>1</td>\n",
       "      <td>1</td>\n",
       "      <td>0.1426</td>\n",
       "      <td>102.92</td>\n",
       "      <td>11.299732</td>\n",
       "      <td>14.97</td>\n",
       "      <td>667</td>\n",
       "      <td>4066.000000</td>\n",
       "      <td>4740</td>\n",
       "      <td>39.5</td>\n",
       "      <td>0</td>\n",
       "      <td>1</td>\n",
       "      <td>0</td>\n",
       "      <td>0</td>\n",
       "    </tr>\n",
       "  </tbody>\n",
       "</table>\n",
       "</div>"
      ],
      "text/plain": [
       "   credit.policy  purpose  int.rate  installment  log.annual.inc    dti  fico  \\\n",
       "0              1        2    0.1189       829.10       11.350407  19.48   737   \n",
       "1              1        1    0.1071       228.22       11.082143  14.29   707   \n",
       "2              1        2    0.1357       366.86       10.373491  11.63   682   \n",
       "3              1        2    0.1008       162.34       11.350407   8.10   712   \n",
       "4              1        1    0.1426       102.92       11.299732  14.97   667   \n",
       "\n",
       "   days.with.cr.line  revol.bal  revol.util  inq.last.6mths  delinq.2yrs  \\\n",
       "0        5639.958333      28854        52.1               0            0   \n",
       "1        2760.000000      33623        76.7               0            0   \n",
       "2        4710.000000       3511        25.6               1            0   \n",
       "3        2699.958333      33667        73.2               1            0   \n",
       "4        4066.000000       4740        39.5               0            1   \n",
       "\n",
       "   pub.rec  not.fully.paid  \n",
       "0        0               0  \n",
       "1        0               0  \n",
       "2        0               0  \n",
       "3        0               0  \n",
       "4        0               0  "
      ]
     },
     "execution_count": 9,
     "metadata": {},
     "output_type": "execute_result"
    }
   ],
   "source": [
    "data.head()"
   ]
  },
  {
   "cell_type": "markdown",
   "metadata": {},
   "source": [
    "__Exploratory Data Analysis__"
   ]
  },
  {
   "cell_type": "markdown",
   "metadata": {},
   "source": [
    "#### Outliar Analysis"
   ]
  },
  {
   "cell_type": "code",
   "execution_count": 10,
   "metadata": {},
   "outputs": [
    {
     "data": {
      "text/html": [
       "<div>\n",
       "<style scoped>\n",
       "    .dataframe tbody tr th:only-of-type {\n",
       "        vertical-align: middle;\n",
       "    }\n",
       "\n",
       "    .dataframe tbody tr th {\n",
       "        vertical-align: top;\n",
       "    }\n",
       "\n",
       "    .dataframe thead th {\n",
       "        text-align: right;\n",
       "    }\n",
       "</style>\n",
       "<table border=\"1\" class=\"dataframe\">\n",
       "  <thead>\n",
       "    <tr style=\"text-align: right;\">\n",
       "      <th></th>\n",
       "      <th>credit.policy</th>\n",
       "      <th>purpose</th>\n",
       "      <th>int.rate</th>\n",
       "      <th>installment</th>\n",
       "      <th>log.annual.inc</th>\n",
       "      <th>dti</th>\n",
       "      <th>fico</th>\n",
       "      <th>days.with.cr.line</th>\n",
       "      <th>revol.bal</th>\n",
       "      <th>revol.util</th>\n",
       "      <th>inq.last.6mths</th>\n",
       "      <th>delinq.2yrs</th>\n",
       "      <th>pub.rec</th>\n",
       "      <th>not.fully.paid</th>\n",
       "    </tr>\n",
       "  </thead>\n",
       "  <tbody>\n",
       "    <tr>\n",
       "      <th>count</th>\n",
       "      <td>9578.000000</td>\n",
       "      <td>9578.000000</td>\n",
       "      <td>9578.000000</td>\n",
       "      <td>9578.000000</td>\n",
       "      <td>9578.000000</td>\n",
       "      <td>9578.000000</td>\n",
       "      <td>9578.000000</td>\n",
       "      <td>9578.000000</td>\n",
       "      <td>9.578000e+03</td>\n",
       "      <td>9578.000000</td>\n",
       "      <td>9578.000000</td>\n",
       "      <td>9578.000000</td>\n",
       "      <td>9578.000000</td>\n",
       "      <td>9578.000000</td>\n",
       "    </tr>\n",
       "    <tr>\n",
       "      <th>mean</th>\n",
       "      <td>0.804970</td>\n",
       "      <td>1.944038</td>\n",
       "      <td>0.122640</td>\n",
       "      <td>319.089413</td>\n",
       "      <td>10.932117</td>\n",
       "      <td>12.606679</td>\n",
       "      <td>710.846314</td>\n",
       "      <td>4560.767197</td>\n",
       "      <td>1.691396e+04</td>\n",
       "      <td>46.799236</td>\n",
       "      <td>1.577469</td>\n",
       "      <td>0.163708</td>\n",
       "      <td>0.062122</td>\n",
       "      <td>0.160054</td>\n",
       "    </tr>\n",
       "    <tr>\n",
       "      <th>std</th>\n",
       "      <td>0.396245</td>\n",
       "      <td>1.686881</td>\n",
       "      <td>0.026847</td>\n",
       "      <td>207.071301</td>\n",
       "      <td>0.614813</td>\n",
       "      <td>6.883970</td>\n",
       "      <td>37.970537</td>\n",
       "      <td>2496.930377</td>\n",
       "      <td>3.375619e+04</td>\n",
       "      <td>29.014417</td>\n",
       "      <td>2.200245</td>\n",
       "      <td>0.546215</td>\n",
       "      <td>0.262126</td>\n",
       "      <td>0.366676</td>\n",
       "    </tr>\n",
       "    <tr>\n",
       "      <th>min</th>\n",
       "      <td>0.000000</td>\n",
       "      <td>0.000000</td>\n",
       "      <td>0.060000</td>\n",
       "      <td>15.670000</td>\n",
       "      <td>7.547502</td>\n",
       "      <td>0.000000</td>\n",
       "      <td>612.000000</td>\n",
       "      <td>178.958333</td>\n",
       "      <td>0.000000e+00</td>\n",
       "      <td>0.000000</td>\n",
       "      <td>0.000000</td>\n",
       "      <td>0.000000</td>\n",
       "      <td>0.000000</td>\n",
       "      <td>0.000000</td>\n",
       "    </tr>\n",
       "    <tr>\n",
       "      <th>25%</th>\n",
       "      <td>1.000000</td>\n",
       "      <td>1.000000</td>\n",
       "      <td>0.103900</td>\n",
       "      <td>163.770000</td>\n",
       "      <td>10.558414</td>\n",
       "      <td>7.212500</td>\n",
       "      <td>682.000000</td>\n",
       "      <td>2820.000000</td>\n",
       "      <td>3.187000e+03</td>\n",
       "      <td>22.600000</td>\n",
       "      <td>0.000000</td>\n",
       "      <td>0.000000</td>\n",
       "      <td>0.000000</td>\n",
       "      <td>0.000000</td>\n",
       "    </tr>\n",
       "    <tr>\n",
       "      <th>50%</th>\n",
       "      <td>1.000000</td>\n",
       "      <td>2.000000</td>\n",
       "      <td>0.122100</td>\n",
       "      <td>268.950000</td>\n",
       "      <td>10.928884</td>\n",
       "      <td>12.665000</td>\n",
       "      <td>707.000000</td>\n",
       "      <td>4139.958333</td>\n",
       "      <td>8.596000e+03</td>\n",
       "      <td>46.300000</td>\n",
       "      <td>1.000000</td>\n",
       "      <td>0.000000</td>\n",
       "      <td>0.000000</td>\n",
       "      <td>0.000000</td>\n",
       "    </tr>\n",
       "    <tr>\n",
       "      <th>75%</th>\n",
       "      <td>1.000000</td>\n",
       "      <td>2.000000</td>\n",
       "      <td>0.140700</td>\n",
       "      <td>432.762500</td>\n",
       "      <td>11.291293</td>\n",
       "      <td>17.950000</td>\n",
       "      <td>737.000000</td>\n",
       "      <td>5730.000000</td>\n",
       "      <td>1.824950e+04</td>\n",
       "      <td>70.900000</td>\n",
       "      <td>2.000000</td>\n",
       "      <td>0.000000</td>\n",
       "      <td>0.000000</td>\n",
       "      <td>0.000000</td>\n",
       "    </tr>\n",
       "    <tr>\n",
       "      <th>max</th>\n",
       "      <td>1.000000</td>\n",
       "      <td>6.000000</td>\n",
       "      <td>0.216400</td>\n",
       "      <td>940.140000</td>\n",
       "      <td>14.528354</td>\n",
       "      <td>29.960000</td>\n",
       "      <td>827.000000</td>\n",
       "      <td>17639.958330</td>\n",
       "      <td>1.207359e+06</td>\n",
       "      <td>119.000000</td>\n",
       "      <td>33.000000</td>\n",
       "      <td>13.000000</td>\n",
       "      <td>5.000000</td>\n",
       "      <td>1.000000</td>\n",
       "    </tr>\n",
       "  </tbody>\n",
       "</table>\n",
       "</div>"
      ],
      "text/plain": [
       "       credit.policy      purpose     int.rate  installment  log.annual.inc  \\\n",
       "count    9578.000000  9578.000000  9578.000000  9578.000000     9578.000000   \n",
       "mean        0.804970     1.944038     0.122640   319.089413       10.932117   \n",
       "std         0.396245     1.686881     0.026847   207.071301        0.614813   \n",
       "min         0.000000     0.000000     0.060000    15.670000        7.547502   \n",
       "25%         1.000000     1.000000     0.103900   163.770000       10.558414   \n",
       "50%         1.000000     2.000000     0.122100   268.950000       10.928884   \n",
       "75%         1.000000     2.000000     0.140700   432.762500       11.291293   \n",
       "max         1.000000     6.000000     0.216400   940.140000       14.528354   \n",
       "\n",
       "               dti         fico  days.with.cr.line     revol.bal   revol.util  \\\n",
       "count  9578.000000  9578.000000        9578.000000  9.578000e+03  9578.000000   \n",
       "mean     12.606679   710.846314        4560.767197  1.691396e+04    46.799236   \n",
       "std       6.883970    37.970537        2496.930377  3.375619e+04    29.014417   \n",
       "min       0.000000   612.000000         178.958333  0.000000e+00     0.000000   \n",
       "25%       7.212500   682.000000        2820.000000  3.187000e+03    22.600000   \n",
       "50%      12.665000   707.000000        4139.958333  8.596000e+03    46.300000   \n",
       "75%      17.950000   737.000000        5730.000000  1.824950e+04    70.900000   \n",
       "max      29.960000   827.000000       17639.958330  1.207359e+06   119.000000   \n",
       "\n",
       "       inq.last.6mths  delinq.2yrs      pub.rec  not.fully.paid  \n",
       "count     9578.000000  9578.000000  9578.000000     9578.000000  \n",
       "mean         1.577469     0.163708     0.062122        0.160054  \n",
       "std          2.200245     0.546215     0.262126        0.366676  \n",
       "min          0.000000     0.000000     0.000000        0.000000  \n",
       "25%          0.000000     0.000000     0.000000        0.000000  \n",
       "50%          1.000000     0.000000     0.000000        0.000000  \n",
       "75%          2.000000     0.000000     0.000000        0.000000  \n",
       "max         33.000000    13.000000     5.000000        1.000000  "
      ]
     },
     "execution_count": 10,
     "metadata": {},
     "output_type": "execute_result"
    }
   ],
   "source": [
    "data.describe()"
   ]
  },
  {
   "cell_type": "code",
   "execution_count": 11,
   "metadata": {},
   "outputs": [],
   "source": [
    "outliar_cols = ['int.rate', 'installment', 'log.annual.inc',\n",
    "       'dti', 'fico', 'days.with.cr.line', 'revol.bal', 'revol.util',\n",
    "       'inq.last.6mths', 'delinq.2yrs', 'pub.rec']"
   ]
  },
  {
   "cell_type": "markdown",
   "metadata": {},
   "source": [
    "#### Discover outliers with mathematical function Z-Score\n",
    "- The Z-score is the signed number of standard deviations by which the value of an observation or data point is above the mean value of what is being observed or measured."
   ]
  },
  {
   "cell_type": "code",
   "execution_count": 12,
   "metadata": {},
   "outputs": [],
   "source": [
    "from scipy import stats"
   ]
  },
  {
   "cell_type": "code",
   "execution_count": 13,
   "metadata": {},
   "outputs": [
    {
     "name": "stdout",
     "output_type": "stream",
     "text": [
      "[[0.13931753 2.46309947 0.68038804 ... 0.71698894 0.29973008 0.23700318]\n",
      " [0.57886837 0.43885443 0.2440308  ... 0.71698894 0.29973008 0.23700318]\n",
      " [0.48648368 0.23070836 0.90865897 ... 0.26247044 0.29973008 0.23700318]\n",
      " ...\n",
      " [0.57886837 1.06867038 0.54569448 ... 2.91915909 0.29973008 0.23700318]\n",
      " [1.39166043 0.1569135  0.18272998 ... 1.55560358 0.29973008 0.23700318]\n",
      " [0.61685894 2.58060136 0.54059439 ... 2.01012208 0.29973008 0.23700318]]\n"
     ]
    }
   ],
   "source": [
    "z = np.abs(stats.zscore(data[outliar_cols]))\n",
    "print(z)"
   ]
  },
  {
   "cell_type": "code",
   "execution_count": 14,
   "metadata": {},
   "outputs": [
    {
     "name": "stdout",
     "output_type": "stream",
     "text": [
      "(array([   6,   10,   24, ..., 9568, 9571, 9573], dtype=int64), array([10, 10, 10, ..., 10, 10,  6], dtype=int64))\n"
     ]
    }
   ],
   "source": [
    "threshold = 3\n",
    "print(np.where(z > 3))"
   ]
  },
  {
   "cell_type": "code",
   "execution_count": 15,
   "metadata": {},
   "outputs": [
    {
     "data": {
      "text/plain": [
       "(8282, 14)"
      ]
     },
     "execution_count": 15,
     "metadata": {},
     "output_type": "execute_result"
    }
   ],
   "source": [
    "data = data[(z < 3).all(axis=1)]\n",
    "data.shape"
   ]
  },
  {
   "cell_type": "markdown",
   "metadata": {},
   "source": [
    "#### Feature Selection"
   ]
  },
  {
   "cell_type": "markdown",
   "metadata": {},
   "source": [
    "___Filter Method___"
   ]
  },
  {
   "cell_type": "markdown",
   "metadata": {},
   "source": [
    "> Here we will first plot the Pearson correlation heatmap and see the correlation of independent variables with the output variable MEDV. We will only select features which has correlation of above 0.5 (taking absolute value) with the output variable."
   ]
  },
  {
   "cell_type": "code",
   "execution_count": 17,
   "metadata": {},
   "outputs": [
    {
     "data": {
      "image/png": "[encoded data removed]",
      "text/plain": [
       "<Figure size 864x720 with 2 Axes>"
      ]
     },
     "metadata": {
      "needs_background": "light"
     },
     "output_type": "display_data"
    }
   ],
   "source": [
    "#Using Pearson Correlation\n",
    "plt.figure(figsize=(12,10))\n",
    "cor = data.corr()\n",
    "sns.heatmap(cor, annot=True, cmap=plt.cm.Reds)\n",
    "plt.show()"
   ]
  },
  {
   "cell_type": "code",
   "execution_count": 18,
   "metadata": {},
   "outputs": [
    {
     "data": {
      "text/plain": [
       "not.fully.paid    1.0\n",
       "Name: not.fully.paid, dtype: float64"
      ]
     },
     "execution_count": 18,
     "metadata": {},
     "output_type": "execute_result"
    }
   ],
   "source": [
    "#Correlation with output variable\n",
    "cor_target = abs(cor[\"not.fully.paid\"])\n",
    "#Selecting highly correlated features\n",
    "relevant_features = cor_target[cor_target>0.5]\n",
    "relevant_features"
   ]
  },
  {
   "cell_type": "markdown",
   "metadata": {},
   "source": [
    "___Identifying the X and y variables___"
   ]
  },
  {
   "cell_type": "code",
   "execution_count": 19,
   "metadata": {},
   "outputs": [
    {
     "data": {
      "text/plain": [
       "((8282, 13), (8282,))"
      ]
     },
     "execution_count": 19,
     "metadata": {},
     "output_type": "execute_result"
    }
   ],
   "source": [
    "X = data.drop(columns=['not.fully.paid'])\n",
    "y = data['not.fully.paid']\n",
    "(X.shape,y.shape)"
   ]
  },
  {
   "cell_type": "code",
   "execution_count": 20,
   "metadata": {},
   "outputs": [
    {
     "data": {
      "text/plain": [
       "Index(['credit.policy', 'purpose', 'int.rate', 'installment', 'log.annual.inc',\n",
       "       'dti', 'fico', 'days.with.cr.line', 'revol.bal', 'revol.util',\n",
       "       'inq.last.6mths', 'delinq.2yrs', 'pub.rec'],\n",
       "      dtype='object')"
      ]
     },
     "execution_count": 20,
     "metadata": {},
     "output_type": "execute_result"
    }
   ],
   "source": [
    "X.columns"
   ]
  },
  {
   "cell_type": "markdown",
   "metadata": {},
   "source": [
    "__Splitting the dataset in Training and Test set in 75:25 ratio__"
   ]
  },
  {
   "cell_type": "code",
   "execution_count": 21,
   "metadata": {},
   "outputs": [
    {
     "name": "stdout",
     "output_type": "stream",
     "text": [
      "X_train Shape: (6211, 13)\n",
      "X_test Shape: (2071, 13)\n",
      "y_train Shape: (6211,)\n",
      "y_test Shape: (2071,)\n"
     ]
    }
   ],
   "source": [
    "from sklearn.model_selection import train_test_split\n",
    "X_train, X_test, y_train, y_test = train_test_split(X, y, test_size=0.25, random_state=42)\n",
    "print(\"X_train Shape: {}\".format(X_train.shape))\n",
    "print(\"X_test Shape: {}\".format(X_test.shape))\n",
    "print(\"y_train Shape: {}\".format(y_train.shape))\n",
    "print(\"y_test Shape: {}\".format(y_test.shape))"
   ]
  },
  {
   "cell_type": "markdown",
   "metadata": {},
   "source": [
    "___Normalizing the Training set and Test set using Standard Scaler___"
   ]
  },
  {
   "cell_type": "code",
   "execution_count": 22,
   "metadata": {},
   "outputs": [],
   "source": [
    "from sklearn.preprocessing import StandardScaler\n",
    "sc = StandardScaler()\n",
    "X_train = sc.fit_transform(X_train)\n",
    "X_test = sc.transform(X_test)"
   ]
  },
  {
   "cell_type": "markdown",
   "metadata": {},
   "source": [
    "#### Modeling using Keras\n",
    "\n",
    "  - Input Dimension - 13\n",
    "  - Hidden Layers - 8\n",
    "  - Activation Function - Sigmoid (for binary classification)\n",
    "  - Optimiser Function - Adam\n",
    "  - Loss Function - Binary Cross Entropy"
   ]
  },
  {
   "cell_type": "code",
   "execution_count": 23,
   "metadata": {},
   "outputs": [
    {
     "name": "stdout",
     "output_type": "stream",
     "text": [
      "Epoch 1/100\n",
      "6211/6211 [==============================] - 1s 219us/step - loss: 0.4657 - accuracy: 0.8198\n",
      "Epoch 2/100\n",
      "6211/6211 [==============================] - 0s 63us/step - loss: 0.4160 - accuracy: 0.8485\n",
      "Epoch 3/100\n",
      "6211/6211 [==============================] - 0s 64us/step - loss: 0.4109 - accuracy: 0.8485\n",
      "Epoch 4/100\n",
      "6211/6211 [==============================] - 0s 63us/step - loss: 0.4079 - accuracy: 0.8485\n",
      "Epoch 5/100\n",
      "6211/6211 [==============================] - 0s 65us/step - loss: 0.4064 - accuracy: 0.8485\n",
      "Epoch 6/100\n",
      "6211/6211 [==============================] - 0s 63us/step - loss: 0.4050 - accuracy: 0.8485\n",
      "Epoch 7/100\n",
      "6211/6211 [==============================] - 0s 66us/step - loss: 0.4046 - accuracy: 0.8485\n",
      "Epoch 8/100\n",
      "6211/6211 [==============================] - 0s 62us/step - loss: 0.4036 - accuracy: 0.8485\n",
      "Epoch 9/100\n",
      "6211/6211 [==============================] - 0s 62us/step - loss: 0.4027 - accuracy: 0.8485\n",
      "Epoch 10/100\n",
      "6211/6211 [==============================] - 0s 61us/step - loss: 0.4019 - accuracy: 0.8485\n",
      "Epoch 11/100\n",
      "6211/6211 [==============================] - 0s 60us/step - loss: 0.4018 - accuracy: 0.8485\n",
      "Epoch 12/100\n",
      "6211/6211 [==============================] - 0s 61us/step - loss: 0.4007 - accuracy: 0.8485\n",
      "Epoch 13/100\n",
      "6211/6211 [==============================] - 0s 61us/step - loss: 0.3995 - accuracy: 0.8485\n",
      "Epoch 14/100\n",
      "6211/6211 [==============================] - 0s 68us/step - loss: 0.3992 - accuracy: 0.8485\n",
      "Epoch 15/100\n",
      "6211/6211 [==============================] - 0s 61us/step - loss: 0.3985 - accuracy: 0.8485\n",
      "Epoch 16/100\n",
      "6211/6211 [==============================] - 0s 62us/step - loss: 0.3980 - accuracy: 0.8485\n",
      "Epoch 17/100\n",
      "6211/6211 [==============================] - 0s 63us/step - loss: 0.3977 - accuracy: 0.8485\n",
      "Epoch 18/100\n",
      "6211/6211 [==============================] - 0s 63us/step - loss: 0.3970 - accuracy: 0.8485\n",
      "Epoch 19/100\n",
      "6211/6211 [==============================] - 0s 62us/step - loss: 0.3966 - accuracy: 0.8485\n",
      "Epoch 20/100\n",
      "6211/6211 [==============================] - 0s 62us/step - loss: 0.3962 - accuracy: 0.8485\n",
      "Epoch 21/100\n",
      "6211/6211 [==============================] - 0s 63us/step - loss: 0.3953 - accuracy: 0.8485\n",
      "Epoch 22/100\n",
      "6211/6211 [==============================] - 0s 62us/step - loss: 0.3955 - accuracy: 0.8485\n",
      "Epoch 23/100\n",
      "6211/6211 [==============================] - 0s 62us/step - loss: 0.3943 - accuracy: 0.8485\n",
      "Epoch 24/100\n",
      "6211/6211 [==============================] - 0s 62us/step - loss: 0.3944 - accuracy: 0.8483\n",
      "Epoch 25/100\n",
      "6211/6211 [==============================] - 0s 62us/step - loss: 0.3940 - accuracy: 0.8485\n",
      "Epoch 26/100\n",
      "6211/6211 [==============================] - 0s 62us/step - loss: 0.3940 - accuracy: 0.8485\n",
      "Epoch 27/100\n",
      "6211/6211 [==============================] - 0s 62us/step - loss: 0.3936 - accuracy: 0.8485\n",
      "Epoch 28/100\n",
      "6211/6211 [==============================] - 0s 62us/step - loss: 0.3932 - accuracy: 0.8483\n",
      "Epoch 29/100\n",
      "6211/6211 [==============================] - 0s 63us/step - loss: 0.3930 - accuracy: 0.8483\n",
      "Epoch 30/100\n",
      "6211/6211 [==============================] - 0s 63us/step - loss: 0.3927 - accuracy: 0.8485\n",
      "Epoch 31/100\n",
      "6211/6211 [==============================] - 0s 62us/step - loss: 0.3926 - accuracy: 0.8485\n",
      "Epoch 32/100\n",
      "6211/6211 [==============================] - 0s 63us/step - loss: 0.3920 - accuracy: 0.8485\n",
      "Epoch 33/100\n",
      "6211/6211 [==============================] - 0s 63us/step - loss: 0.3910 - accuracy: 0.8485\n",
      "Epoch 34/100\n",
      "6211/6211 [==============================] - 0s 63us/step - loss: 0.3917 - accuracy: 0.8490\n",
      "Epoch 35/100\n",
      "6211/6211 [==============================] - 0s 62us/step - loss: 0.3910 - accuracy: 0.8485\n",
      "Epoch 36/100\n",
      "6211/6211 [==============================] - 0s 64us/step - loss: 0.3912 - accuracy: 0.8490\n",
      "Epoch 37/100\n",
      "6211/6211 [==============================] - 0s 63us/step - loss: 0.3903 - accuracy: 0.8488\n",
      "Epoch 38/100\n",
      "6211/6211 [==============================] - 0s 65us/step - loss: 0.3906 - accuracy: 0.8482\n",
      "Epoch 39/100\n",
      "6211/6211 [==============================] - 0s 68us/step - loss: 0.3900 - accuracy: 0.8487\n",
      "Epoch 40/100\n",
      "6211/6211 [==============================] - 0s 61us/step - loss: 0.3893 - accuracy: 0.8495\n",
      "Epoch 41/100\n",
      "6211/6211 [==============================] - 0s 62us/step - loss: 0.3903 - accuracy: 0.8490\n",
      "Epoch 42/100\n",
      "6211/6211 [==============================] - 0s 63us/step - loss: 0.3894 - accuracy: 0.8491\n",
      "Epoch 43/100\n",
      "6211/6211 [==============================] - 0s 63us/step - loss: 0.3891 - accuracy: 0.8490\n",
      "Epoch 44/100\n",
      "6211/6211 [==============================] - 0s 62us/step - loss: 0.3889 - accuracy: 0.8495\n",
      "Epoch 45/100\n",
      "6211/6211 [==============================] - 0s 68us/step - loss: 0.3883 - accuracy: 0.8501\n",
      "Epoch 46/100\n",
      "6211/6211 [==============================] - 0s 67us/step - loss: 0.3891 - accuracy: 0.8501\n",
      "Epoch 47/100\n",
      "6211/6211 [==============================] - 0s 63us/step - loss: 0.3886 - accuracy: 0.8498\n",
      "Epoch 48/100\n",
      "6211/6211 [==============================] - 0s 63us/step - loss: 0.3889 - accuracy: 0.8503\n",
      "Epoch 49/100\n",
      "6211/6211 [==============================] - 0s 62us/step - loss: 0.3877 - accuracy: 0.8496\n",
      "Epoch 50/100\n",
      "6211/6211 [==============================] - 0s 63us/step - loss: 0.3878 - accuracy: 0.8499\n",
      "Epoch 51/100\n",
      "6211/6211 [==============================] - 0s 62us/step - loss: 0.3879 - accuracy: 0.8499\n",
      "Epoch 52/100\n",
      "6211/6211 [==============================] - 0s 64us/step - loss: 0.3880 - accuracy: 0.8499\n",
      "Epoch 53/100\n",
      "6211/6211 [==============================] - 0s 65us/step - loss: 0.3879 - accuracy: 0.8504\n",
      "Epoch 54/100\n",
      "6211/6211 [==============================] - 0s 63us/step - loss: 0.3874 - accuracy: 0.8504\n",
      "Epoch 55/100\n",
      "6211/6211 [==============================] - 0s 61us/step - loss: 0.3875 - accuracy: 0.8495\n",
      "Epoch 56/100\n",
      "6211/6211 [==============================] - 0s 60us/step - loss: 0.3868 - accuracy: 0.8499\n",
      "Epoch 57/100\n",
      "6211/6211 [==============================] - 0s 60us/step - loss: 0.3865 - accuracy: 0.8499\n",
      "Epoch 58/100\n",
      "6211/6211 [==============================] - 0s 62us/step - loss: 0.3873 - accuracy: 0.8501\n",
      "Epoch 59/100\n",
      "6211/6211 [==============================] - 0s 62us/step - loss: 0.3870 - accuracy: 0.8495\n",
      "Epoch 60/100\n",
      "6211/6211 [==============================] - 0s 62us/step - loss: 0.3867 - accuracy: 0.8490\n",
      "Epoch 61/100\n",
      "6211/6211 [==============================] - 0s 63us/step - loss: 0.3865 - accuracy: 0.8504\n",
      "Epoch 62/100\n",
      "6211/6211 [==============================] - 0s 62us/step - loss: 0.3868 - accuracy: 0.8499\n",
      "Epoch 63/100\n",
      "6211/6211 [==============================] - 0s 63us/step - loss: 0.3862 - accuracy: 0.8495\n",
      "Epoch 64/100\n",
      "6211/6211 [==============================] - 0s 62us/step - loss: 0.3864 - accuracy: 0.8493\n",
      "Epoch 65/100\n",
      "6211/6211 [==============================] - 0s 62us/step - loss: 0.3860 - accuracy: 0.8503\n",
      "Epoch 66/100\n",
      "6211/6211 [==============================] - 0s 62us/step - loss: 0.3860 - accuracy: 0.8490\n",
      "Epoch 67/100\n",
      "6211/6211 [==============================] - 0s 62us/step - loss: 0.3861 - accuracy: 0.8491\n",
      "Epoch 68/100\n",
      "6211/6211 [==============================] - 0s 61us/step - loss: 0.3857 - accuracy: 0.8498\n",
      "Epoch 69/100\n",
      "6211/6211 [==============================] - 0s 63us/step - loss: 0.3857 - accuracy: 0.8496\n",
      "Epoch 70/100\n",
      "6211/6211 [==============================] - 0s 63us/step - loss: 0.3853 - accuracy: 0.8493\n",
      "Epoch 71/100\n",
      "6211/6211 [==============================] - 0s 63us/step - loss: 0.3856 - accuracy: 0.8493\n",
      "Epoch 72/100\n",
      "6211/6211 [==============================] - 0s 61us/step - loss: 0.3856 - accuracy: 0.8490\n",
      "Epoch 73/100\n",
      "6211/6211 [==============================] - 0s 62us/step - loss: 0.3857 - accuracy: 0.8483\n",
      "Epoch 74/100\n",
      "6211/6211 [==============================] - 0s 63us/step - loss: 0.3854 - accuracy: 0.8496\n",
      "Epoch 75/100\n",
      "6211/6211 [==============================] - 0s 62us/step - loss: 0.3857 - accuracy: 0.8491\n",
      "Epoch 76/100\n",
      "6211/6211 [==============================] - 0s 62us/step - loss: 0.3848 - accuracy: 0.8491\n",
      "Epoch 77/100\n",
      "6211/6211 [==============================] - 0s 62us/step - loss: 0.3850 - accuracy: 0.8495\n",
      "Epoch 78/100\n",
      "6211/6211 [==============================] - 0s 62us/step - loss: 0.3851 - accuracy: 0.8488\n",
      "Epoch 79/100\n"
     ]
    },
    {
     "name": "stdout",
     "output_type": "stream",
     "text": [
      "6211/6211 [==============================] - 0s 62us/step - loss: 0.3847 - accuracy: 0.8487\n",
      "Epoch 80/100\n",
      "6211/6211 [==============================] - 0s 63us/step - loss: 0.3849 - accuracy: 0.8490\n",
      "Epoch 81/100\n",
      "6211/6211 [==============================] - 0s 62us/step - loss: 0.3846 - accuracy: 0.8488\n",
      "Epoch 82/100\n",
      "6211/6211 [==============================] - 0s 62us/step - loss: 0.3849 - accuracy: 0.8487\n",
      "Epoch 83/100\n",
      "6211/6211 [==============================] - 0s 61us/step - loss: 0.3846 - accuracy: 0.8491\n",
      "Epoch 84/100\n",
      "6211/6211 [==============================] - 0s 62us/step - loss: 0.3842 - accuracy: 0.8491\n",
      "Epoch 85/100\n",
      "6211/6211 [==============================] - 0s 63us/step - loss: 0.3844 - accuracy: 0.8488\n",
      "Epoch 86/100\n",
      "6211/6211 [==============================] - 0s 61us/step - loss: 0.3848 - accuracy: 0.8488\n",
      "Epoch 87/100\n",
      "6211/6211 [==============================] - 0s 61us/step - loss: 0.3844 - accuracy: 0.8491\n",
      "Epoch 88/100\n",
      "6211/6211 [==============================] - 0s 61us/step - loss: 0.3842 - accuracy: 0.8496\n",
      "Epoch 89/100\n",
      "6211/6211 [==============================] - 0s 61us/step - loss: 0.3848 - accuracy: 0.8493\n",
      "Epoch 90/100\n",
      "6211/6211 [==============================] - 0s 62us/step - loss: 0.3845 - accuracy: 0.8477\n",
      "Epoch 91/100\n",
      "6211/6211 [==============================] - 0s 62us/step - loss: 0.3845 - accuracy: 0.8491\n",
      "Epoch 92/100\n",
      "6211/6211 [==============================] - 0s 62us/step - loss: 0.3841 - accuracy: 0.8485\n",
      "Epoch 93/100\n",
      "6211/6211 [==============================] - 0s 62us/step - loss: 0.3841 - accuracy: 0.8491\n",
      "Epoch 94/100\n",
      "6211/6211 [==============================] - 0s 61us/step - loss: 0.3839 - accuracy: 0.8483\n",
      "Epoch 95/100\n",
      "6211/6211 [==============================] - 0s 62us/step - loss: 0.3843 - accuracy: 0.8495\n",
      "Epoch 96/100\n",
      "6211/6211 [==============================] - 0s 62us/step - loss: 0.3845 - accuracy: 0.8491\n",
      "Epoch 97/100\n",
      "6211/6211 [==============================] - 0s 62us/step - loss: 0.3839 - accuracy: 0.8488\n",
      "Epoch 98/100\n",
      "6211/6211 [==============================] - 0s 62us/step - loss: 0.3834 - accuracy: 0.8485\n",
      "Epoch 99/100\n",
      "6211/6211 [==============================] - 0s 62us/step - loss: 0.3838 - accuracy: 0.8488\n",
      "Epoch 100/100\n",
      "6211/6211 [==============================] - 0s 62us/step - loss: 0.3843 - accuracy: 0.8491\n",
      "2071/2071 [==============================] - 0s 14us/step\n",
      "\n",
      "accuracy: 85.37%\n"
     ]
    }
   ],
   "source": [
    "from keras.models import Sequential\n",
    "from keras.layers import Dense\n",
    "from keras.layers import Dropout\n",
    "\n",
    "classifier = Sequential();\n",
    "\n",
    "classifier.add(Dense(8, input_dim=13, activation='relu'))\n",
    "\n",
    "classifier.add(Dense(13, activation='relu'))\n",
    "\n",
    "classifier.add(Dense(1, activation='sigmoid'))\n",
    "\n",
    "classifier.compile(optimizer='adam', loss='binary_crossentropy', metrics=['accuracy'])\n",
    "\n",
    "classifier.fit(X_train, y_train, batch_size=10, epochs=100)\n",
    "\n",
    "scores = classifier.evaluate(X_test, y_test)\n",
    "print(\"\\n%s: %.2f%%\" % (classifier.metrics_names[1], scores[1]*100))"
   ]
  },
  {
   "cell_type": "code",
   "execution_count": null,
   "metadata": {},
   "outputs": [],
   "source": []
  },
  {
   "cell_type": "code",
   "execution_count": null,
   "metadata": {},
   "outputs": [],
   "source": []
  }
 ],
 "metadata": {
  "kernelspec": {
   "display_name": "Python 3",
   "language": "python",
   "name": "python3"
  },
  "language_info": {
   "codemirror_mode": {
    "name": "ipython",
    "version": 3
   },
   "file_extension": ".py",
   "mimetype": "text/x-python",
   "name": "python",
   "nbconvert_exporter": "python",
   "pygments_lexer": "ipython3",
   "version": "3.7.3"
  }
 },
 "nbformat": 4,
 "nbformat_minor": 2
}
