{
 "cells": [
  {
   "cell_type": "code",
   "execution_count": 7,
   "metadata": {},
   "outputs": [],
   "source": [
    "class Bank:\n",
    "    'Class definition of Bank'\n",
    "    \n",
    "    def __init__(self, IFSC_Code='123', bankname='State Bank of India', branchname='NIOH', loc='Baranagar'):\n",
    "        self.IFSC_Code = IFSC_Code\n",
    "        self.bankname = bankname\n",
    "        self.branchname = branchname\n",
    "        self.loc = loc\n",
    "    \n",
    "    def getBankName(self):\n",
    "        return self.bankname\n",
    "    \n",
    "    def getBranchName(self):\n",
    "        return self.branchname\n",
    "    \n",
    "    def getIFSC(self):\n",
    "        return self.IFSC_Code\n",
    "    \n",
    "    def getLocation(self):\n",
    "        return self.loc"
   ]
  },
  {
   "cell_type": "code",
   "execution_count": 8,
   "metadata": {},
   "outputs": [],
   "source": [
    "class Customer:\n",
    "    'Class definition of Customer'\n",
    "    \n",
    "    def __init__(self, CustomerID='1001', custname='Saikat', address='Kolkata', contactdetails='snbhattacharjya@gmail.com'):\n",
    "        self.CustomerID = CustomerID\n",
    "        self.custname = custname\n",
    "        self.address = address\n",
    "        self.contactdetails = contactdetails"
   ]
  },
  {
   "cell_type": "code",
   "execution_count": 9,
   "metadata": {},
   "outputs": [],
   "source": [
    "class Account(Bank):\n",
    "    'Class definition of Account'\n",
    "    \n",
    "    customer = Customer()\n",
    "    \n",
    "    def __init__(self, AccountID='2001', customer, balance=0):\n",
    "        self.AccountID = AccountID\n",
    "        self.customer = customer\n",
    "        self.balance = balance\n",
    "        \n",
    "        # Calling the super() method to invoke the constructor of the base class bank\n",
    "        super().__init__()\n",
    "        \n",
    "    # Class methods\n",
    "\n",
    "    def getAccountInfo(self):\n",
    "        print('***Account Info***')\n",
    "        print('Bank: {}', format(super().getBankName()))\n",
    "        print('Branch: {}', format(super().getBranchName()))\n",
    "        print('IFSC: {}', format(super().getIFSC()))\n",
    "        print('Location: {}', format(super().getLocation()))\n",
    "        print('Account ID: {}', format(self.AccountID))\n",
    "        print('Customer ID: {}', format(self.customer.getCustomerID()))\n",
    "        print('Customer Name: {}', format(self.customer.getCustomerID()))\n",
    "        print('Balance: {}', format(self.balance))\n",
    "\n",
    "    def deposit(self, amount, confirm):\n",
    "        if(amount > 0 and confirm):\n",
    "            self.balance += amount\n",
    "            print('Amount {} has been deposited in Account {}, current balance is {}', format(amount, self.AccountID, \n",
    "                                                                                               self.balance))\n",
    "        elif(amount <= 0):\n",
    "            print('Invalid Amount (should be greater than zero)')\n",
    "        elif(not confirm):\n",
    "            print('Deposit not confirmed')\n",
    "\n",
    "    def widthraw(self, amount):\n",
    "        if(self.balance >= amount and amount > 0):\n",
    "            self.balance -= amount\n",
    "            print('Amount {} has been withdrawn from Account {}, current balance is {}', format(amount, self.AccountID, \n",
    "                                                                                               self.balance))\n",
    "    def getBalance(self):\n",
    "        print('Current balance for Account {} is {}', format(self.AccountID, self.balance))"
   ]
  },
  {
   "cell_type": "code",
   "execution_count": 11,
   "metadata": {},
   "outputs": [],
   "source": [
    "class SavingsAccount(Account):\n",
    "    'Class definition of SavingsAccount'\n",
    "    \n",
    "    def __init__(self, customer, SMinBalance):\n",
    "        self.SMinBalance = SMinBalance\n",
    "        super().__init__(customer)\n",
    "    \n",
    "    def getSavingsAccountInfo(self):\n",
    "        super().getAccountInfo()\n",
    "        print('Savings Account Minimum Balance: {}', format(self.SMinBalance))\n",
    "    \n",
    "    def deposit(self, amount, confirm):\n",
    "        super().deposit(amount, confirm)\n",
    "        \n",
    "    def widthraw(self, amount):\n",
    "        if(self.SMinBalance >= (self.getBalance() - amount)):\n",
    "            super().withdraw(amount)\n",
    "        else:\n",
    "            print('Error in transaction. Minimum Balance should be maintained')\n",
    "            \n",
    "    def getBalance(self):\n",
    "        super().getBalance()"
   ]
  },
  {
   "cell_type": "code",
   "execution_count": null,
   "metadata": {},
   "outputs": [],
   "source": []
  },
  {
   "cell_type": "code",
   "execution_count": null,
   "metadata": {},
   "outputs": [],
   "source": []
  }
 ],
 "metadata": {
  "kernelspec": {
   "display_name": "Python 3",
   "language": "python",
   "name": "python3"
  },
  "language_info": {
   "codemirror_mode": {
    "name": "ipython",
    "version": 3
   },
   "file_extension": ".py",
   "mimetype": "text/x-python",
   "name": "python",
   "nbconvert_exporter": "python",
   "pygments_lexer": "ipython3",
   "version": "3.7.3"
  }
 },
 "nbformat": 4,
 "nbformat_minor": 2
}
