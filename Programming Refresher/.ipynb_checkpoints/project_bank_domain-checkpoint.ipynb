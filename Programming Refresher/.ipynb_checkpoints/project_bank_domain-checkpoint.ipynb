{
 "cells": [
  {
   "cell_type": "markdown",
   "metadata": {},
   "source": [
    "<h1>Programming Refresher - Project Bank Domain </h1>"
   ]
  },
  {
   "cell_type": "markdown",
   "metadata": {},
   "source": [
    "<h3>Bank Class Definition</h3>"
   ]
  },
  {
   "cell_type": "code",
   "execution_count": 3,
   "metadata": {},
   "outputs": [],
   "source": [
    "class Bank:\n",
    "    'Class definition of Bank'\n",
    "    \n",
    "    def __init__(self, IFSC_Code='123', bankname='State Bank of India', branchname='NIOH', loc='Baranagar'):\n",
    "        self.IFSC_Code = IFSC_Code\n",
    "        self.bankname = bankname\n",
    "        self.branchname = branchname\n",
    "        self.loc = loc\n",
    "    \n",
    "    def getBankName(self):\n",
    "        return self.bankname\n",
    "    \n",
    "    def getBranchName(self):\n",
    "        return self.branchname\n",
    "    \n",
    "    def getIFSC(self):\n",
    "        return self.IFSC_Code\n",
    "    \n",
    "    def getLocation(self):\n",
    "        return self.loc"
   ]
  },
  {
   "cell_type": "markdown",
   "metadata": {},
   "source": [
    "<h3>Customer Class Definition</h3>\n",
    "<p>\n",
    "    <b>Attributes:-</b>\n",
    "    <ul>\n",
    "    <li> Customer ID\n",
    "    <li> Customer Name\n",
    "    <li> Address\n",
    "    <li> Contact Details\n",
    "    </ul>\n",
    "</p>    "
   ]
  },
  {
   "cell_type": "code",
   "execution_count": 4,
   "metadata": {},
   "outputs": [],
   "source": [
    "class Customer:\n",
    "    'Class definition of Customer'\n",
    "    \n",
    "    def __init__(self, CustomerID='1001', custname='Saikat', address='Kolkata', contactdetails='snbhattacharjya@gmail.com'):\n",
    "        self.CustomerID = CustomerID\n",
    "        self.custname = custname\n",
    "        self.address = address\n",
    "        self.contactdetails = contactdetails\n",
    "    \n",
    "    def getCustomerID(self):\n",
    "        return self.CustomerID\n",
    "    \n",
    "    def getCustomerName(self):\n",
    "        return self.custname\n",
    "    \n",
    "    def getCustomerAddress(self):\n",
    "        return self.address\n",
    "    \n",
    "    def getCustomerContactDetials(self):\n",
    "        return self.contactdetails"
   ]
  },
  {
   "cell_type": "markdown",
   "metadata": {},
   "source": [
    "### Account Class Definition - Derived Class from Bank\n",
    "#### Attributes:-\n",
    "- AccountID\n",
    "- Customer Instance\n",
    "- Balance"
   ]
  },
  {
   "cell_type": "code",
   "execution_count": 5,
   "metadata": {},
   "outputs": [],
   "source": [
    "class Account(Bank):\n",
    "    'Class definition of Account'\n",
    "    \n",
    "    customer = Customer()\n",
    "    \n",
    "    def __init__(self, customer, AccountID='2001', balance=0):\n",
    "        self.AccountID = AccountID\n",
    "        self.customer = customer\n",
    "        self.balance = balance\n",
    "        \n",
    "        # Calling the super() method to invoke the constructor of the base class bank\n",
    "        super().__init__()\n",
    "        \n",
    "    # Class methods\n",
    "\n",
    "    def getAccountInfo(self):\n",
    "        print('***Account Info***')\n",
    "        print('Bank: {}'.format(super().getBankName()))\n",
    "        print('Branch: {}'.format(super().getBranchName()))\n",
    "        print('IFSC: {}'.format(super().getIFSC()))\n",
    "        print('Location: {}'.format(super().getLocation()))\n",
    "        print('Account ID: {}'.format(self.AccountID))\n",
    "        print('Customer ID: {}'.format(self.customer.getCustomerID()))\n",
    "        print('Customer Name: {}'.format(self.customer.getCustomerName()))\n",
    "        print('Balance: {}'.format(self.balance))\n",
    "\n",
    "    def deposit(self, amount, confirm):\n",
    "        if(amount > 0 and confirm): # Conditional check for Amount to be greater than zero and action to be true\n",
    "            self.balance += amount\n",
    "            print('Amount {} has been deposited in Account {}, current balance is {}'.format(amount, self.AccountID, \n",
    "                                                                                               self.balance))\n",
    "        elif(amount <= 0):\n",
    "            print('Invalid Amount (should be greater than zero)')\n",
    "        elif(not confirm):\n",
    "            print('Deposit not confirmed')\n",
    "\n",
    "    def withdraw(self, amount):\n",
    "        if(self.balance >= amount and amount > 0): # Conditional checkfor Minimum Balance\n",
    "            self.balance -= amount\n",
    "            print('Amount {} has been withdrawn from Account {}, current balance is {}'.format(amount, self.AccountID, \n",
    "                                                                                               self.balance))\n",
    "    def getBalance(self):\n",
    "        print('Current balance for Account {} is {}'.format(self.AccountID, self.balance))\n",
    "    \n",
    "    def getBalanceAmount(self):\n",
    "        return self.balance"
   ]
  },
  {
   "cell_type": "markdown",
   "metadata": {},
   "source": [
    "### Savings Account ClassDefinition - Derived Class of Account\n",
    "#### Attributes:-\n",
    "- Minimum Balance"
   ]
  },
  {
   "cell_type": "code",
   "execution_count": 6,
   "metadata": {},
   "outputs": [],
   "source": [
    "class SavingsAccount(Account):\n",
    "    'Class definition of SavingsAccount'\n",
    "    \n",
    "    def __init__(self, customer, SMinBalance):\n",
    "        self.SMinBalance = SMinBalance\n",
    "        \n",
    "        # Calling the super() method to invoke the constructor of the base class Account\n",
    "        super().__init__(customer=customer, balance=SMinBalance)\n",
    "    \n",
    "    def getSavingsAccountInfo(self):\n",
    "        super().getAccountInfo()\n",
    "        print('Savings Account Minimum Balance: {}'.format(self.SMinBalance))\n",
    "    \n",
    "    def withdraw(self, amount):\n",
    "        if((super().getBalanceAmount() - amount) >= self.SMinBalance):\n",
    "            super().withdraw(amount)\n",
    "        else:\n",
    "            print('Error in transaction. Minimum Balance {} should be maintained'.format(self.SMinBalance))"
   ]
  },
  {
   "cell_type": "markdown",
   "metadata": {},
   "source": [
    "### Bank Transaction Class Definition\n",
    "#### Attributes:-\n",
    "- Customer Instance\n",
    "- Savings Account Instance"
   ]
  },
  {
   "cell_type": "code",
   "execution_count": 7,
   "metadata": {},
   "outputs": [],
   "source": [
    "class BankTransaction:\n",
    "    'Class Definition of Bank Transaction'\n",
    "\n",
    "    def __init__(self):\n",
    "        self.customer = None\n",
    "        self.savings_account = None\n",
    "        \n",
    "    def openSavingsAccount(self):\n",
    "        print('Welcome Guest! Please enter the below information:')\n",
    "        custname = input('Enter Customer Name: ')\n",
    "        address = input('Enter Customer Address: ')\n",
    "        contactdetails = input('Enter Contact Details: ')\n",
    "        sminbalance = int(input('Enter Minimum Balance: '))\n",
    "        \n",
    "        self.customer = Customer(custname=custname, address=address, contactdetails=contactdetails)\n",
    "        self.savings_account = SavingsAccount(customer=self.customer, SMinBalance=sminbalance)\n",
    "        \n",
    "        print('Congrats! Your Savings Account has been successfully created.')\n",
    "    \n",
    "    def deposit(self):\n",
    "        amount = int(input('Enter amount to be deposited: '))\n",
    "        self.savings_account.deposit(amount,'true')\n",
    "    \n",
    "    def withdraw(self):\n",
    "        amount = int(input('Enter amount to be withdrawn: '))\n",
    "        self.savings_account.withdraw(amount)\n",
    "    \n",
    "    def checkBalance(self):\n",
    "        self.savings_account.getBalance()\n",
    "    \n",
    "    def getSavingsAccountInfo(self):\n",
    "        self.savings_account.getSavingsAccountInfo()"
   ]
  },
  {
   "cell_type": "markdown",
   "metadata": {},
   "source": [
    "### Instanciation of BankTransaction Class"
   ]
  },
  {
   "cell_type": "code",
   "execution_count": 8,
   "metadata": {},
   "outputs": [],
   "source": [
    "BT = BankTransaction()"
   ]
  },
  {
   "cell_type": "markdown",
   "metadata": {},
   "source": [
    "### Opening a Savings Bank Account from User Input"
   ]
  },
  {
   "cell_type": "code",
   "execution_count": 9,
   "metadata": {},
   "outputs": [
    {
     "name": "stdout",
     "output_type": "stream",
     "text": [
      "Welcome Guest! Please enter the below information:\n",
      "Enter Customer Name: Saikat\n",
      "Enter Customer Address: Darjeeling\n",
      "Enter Contact Details: 9831818461\n",
      "Enter Minimum Balance: 5000\n",
      "Congrats! Your Savings Account has been successfully created.\n"
     ]
    }
   ],
   "source": [
    "BT.openSavingsAccount()"
   ]
  },
  {
   "cell_type": "markdown",
   "metadata": {},
   "source": [
    "### Showing Savings Bank Account details"
   ]
  },
  {
   "cell_type": "code",
   "execution_count": 10,
   "metadata": {},
   "outputs": [
    {
     "name": "stdout",
     "output_type": "stream",
     "text": [
      "***Account Info***\n",
      "Bank: State Bank of India\n",
      "Branch: NIOH\n",
      "IFSC: 123\n",
      "Location: Baranagar\n",
      "Account ID: 2001\n",
      "Customer ID: 1001\n",
      "Customer Name: Saikat\n",
      "Balance: 5000\n",
      "Savings Account Minimum Balance: 5000\n"
     ]
    }
   ],
   "source": [
    "BT.getSavingsAccountInfo()"
   ]
  },
  {
   "cell_type": "markdown",
   "metadata": {},
   "source": [
    "#### Conditional check for deposit to reject any value less than equalto zero"
   ]
  },
  {
   "cell_type": "code",
   "execution_count": 11,
   "metadata": {},
   "outputs": [
    {
     "name": "stdout",
     "output_type": "stream",
     "text": [
      "Enter amount to be deposited: 0\n",
      "Invalid Amount (should be greater than zero)\n"
     ]
    }
   ],
   "source": [
    "BT.deposit()"
   ]
  },
  {
   "cell_type": "markdown",
   "metadata": {},
   "source": [
    "#### Displaying the current balance of the Saving Account"
   ]
  },
  {
   "cell_type": "code",
   "execution_count": 12,
   "metadata": {},
   "outputs": [
    {
     "name": "stdout",
     "output_type": "stream",
     "text": [
      "Current balance for Account 2001 is 5000\n"
     ]
    }
   ],
   "source": [
    "BT.checkBalance()"
   ]
  },
  {
   "cell_type": "markdown",
   "metadata": {},
   "source": [
    "#### Conditional check for withdraw to reject any value makes current balance less than Minimum Balance"
   ]
  },
  {
   "cell_type": "code",
   "execution_count": 13,
   "metadata": {},
   "outputs": [
    {
     "name": "stdout",
     "output_type": "stream",
     "text": [
      "Enter amount to be withdrawn: 1000\n",
      "Error in transaction. Minimum Balance 5000 should be maintained\n"
     ]
    }
   ],
   "source": [
    "BT.withdraw()"
   ]
  },
  {
   "cell_type": "code",
   "execution_count": 14,
   "metadata": {},
   "outputs": [
    {
     "name": "stdout",
     "output_type": "stream",
     "text": [
      "Current balance for Account 2001 is 5000\n"
     ]
    }
   ],
   "source": [
    "BT.checkBalance()"
   ]
  },
  {
   "cell_type": "code",
   "execution_count": 15,
   "metadata": {},
   "outputs": [
    {
     "name": "stdout",
     "output_type": "stream",
     "text": [
      "***Account Info***\n",
      "Bank: State Bank of India\n",
      "Branch: NIOH\n",
      "IFSC: 123\n",
      "Location: Baranagar\n",
      "Account ID: 2001\n",
      "Customer ID: 1001\n",
      "Customer Name: Saikat\n",
      "Balance: 5000\n",
      "Savings Account Minimum Balance: 5000\n"
     ]
    }
   ],
   "source": [
    "BT.getSavingsAccountInfo()"
   ]
  },
  {
   "cell_type": "code",
   "execution_count": 16,
   "metadata": {},
   "outputs": [
    {
     "name": "stdout",
     "output_type": "stream",
     "text": [
      "Enter amount to be deposited: 1000\n",
      "Amount 1000 has been deposited in Account 2001, current balance is 6000\n"
     ]
    }
   ],
   "source": [
    "BT.deposit()"
   ]
  },
  {
   "cell_type": "code",
   "execution_count": 17,
   "metadata": {},
   "outputs": [
    {
     "name": "stdout",
     "output_type": "stream",
     "text": [
      "Enter amount to be withdrawn: 500\n",
      "Amount 500 has been withdrawn from Account 2001, current balance is 5500\n"
     ]
    }
   ],
   "source": [
    "BT.withdraw()"
   ]
  },
  {
   "cell_type": "code",
   "execution_count": 18,
   "metadata": {},
   "outputs": [
    {
     "name": "stdout",
     "output_type": "stream",
     "text": [
      "***Account Info***\n",
      "Bank: State Bank of India\n",
      "Branch: NIOH\n",
      "IFSC: 123\n",
      "Location: Baranagar\n",
      "Account ID: 2001\n",
      "Customer ID: 1001\n",
      "Customer Name: Saikat\n",
      "Balance: 5500\n",
      "Savings Account Minimum Balance: 5000\n"
     ]
    }
   ],
   "source": [
    "BT.getSavingsAccountInfo()"
   ]
  },
  {
   "cell_type": "code",
   "execution_count": null,
   "metadata": {},
   "outputs": [],
   "source": []
  }
 ],
 "metadata": {
  "kernelspec": {
   "display_name": "Python 3",
   "language": "python",
   "name": "python3"
  },
  "language_info": {
   "codemirror_mode": {
    "name": "ipython",
    "version": 3
   },
   "file_extension": ".py",
   "mimetype": "text/x-python",
   "name": "python",
   "nbconvert_exporter": "python",
   "pygments_lexer": "ipython3",
   "version": "3.7.3"
  }
 },
 "nbformat": 4,
 "nbformat_minor": 2
}
